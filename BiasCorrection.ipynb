{
 "cells": [
  {
   "cell_type": "code",
   "execution_count": 8,
   "metadata": {},
   "outputs": [],
   "source": [
    "import pandas as pd\n",
    "import matplotlib.pyplot as plt\n",
    "import numpy as np"
   ]
  },
  {
   "cell_type": "markdown",
   "metadata": {},
   "source": [
    "### Ground Truth Simulation"
   ]
  },
  {
   "cell_type": "code",
   "execution_count": 11,
   "metadata": {},
   "outputs": [],
   "source": [
    "# Confusion matrix values\n",
    "TP = 273\n",
    "FP = 37\n",
    "FN = 52\n",
    "TN = 1190\n",
    "\n",
    "# Total number of samples\n",
    "total_samples = TP + FP + FN + TN"
   ]
  },
  {
   "cell_type": "code",
   "execution_count": null,
   "metadata": {},
   "outputs": [
    {
     "data": {
      "text/plain": [
       "1552"
      ]
     },
     "metadata": {},
     "output_type": "display_data"
    }
   ],
   "source": [
    "total_samples"
   ]
  },
  {
   "cell_type": "code",
   "execution_count": 12,
   "metadata": {},
   "outputs": [
    {
     "name": "stdout",
     "output_type": "stream",
     "text": [
      "Sensitivity (Recall): 0.84\n",
      "Specificity: 0.97\n",
      "Precision: 0.88\n",
      "Negative Predictive Value: 0.96\n"
     ]
    }
   ],
   "source": [
    "# Conditional probabilities\n",
    "sensitivity = TP / (TP + FN)\n",
    "specificity = TN / (TN + FP)\n",
    "precision = TP / (TP + FP)\n",
    "negative_predictive_value = TN / (TN + FN)\n",
    "\n",
    "print(f\"Sensitivity (Recall): {sensitivity:.2f}\")\n",
    "print(f\"Specificity: {specificity:.2f}\")\n",
    "print(f\"Precision: {precision:.2f}\")\n",
    "print(f\"Negative Predictive Value: {negative_predictive_value:.2f}\")\n"
   ]
  },
  {
   "cell_type": "code",
   "execution_count": null,
   "metadata": {},
   "outputs": [
    {
     "name": "stdout",
     "output_type": "stream",
     "text": [
      "True War Proportion: 0.21\n",
      "True Not War Proportion: 0.79\n"
     ]
    }
   ],
   "source": [
    "# Number of simulations\n",
    "num_simulations = 10000\n",
    "size = 1000\n",
    "\n",
    "# Proportion of true war and not war labels\n",
    "true_war_proportion = (TP + FN) / total_samples\n",
    "true_not_war_proportion = (TN + FP) / total_samples\n",
    "\n",
    "print(f\"True War Proportion: {true_war_proportion:.2f}\")\n",
    "print(f\"True Not War Proportion: {true_not_war_proportion:.2f}\")"
   ]
  },
  {
   "cell_type": "code",
   "execution_count": null,
   "metadata": {},
   "outputs": [],
   "source": [
    "# original_samples = []\n",
    "# for sample in range (num_simulations):\n",
    "ground_truth = np.random.choice(\n",
    "    [1, 0], size=size, p=[true_war_proportion, true_not_war_proportion]\n",
    "    )\n",
    "# original_samples.append(ground_truth)"
   ]
  },
  {
   "cell_type": "code",
   "execution_count": null,
   "metadata": {},
   "outputs": [],
   "source": [
    "predicted_samples = []\n",
    "for simulation in range(num_simulations):\n",
    "    # Simulate the classifier predictions with errors\n",
    "    predicted_labels = []\n",
    "    for label in ground_truth:\n",
    "        if label == 1:  # True war\n",
    "            predicted_label = np.random.choice(\n",
    "                [1, 0], p=[(sensitivity), 1 - sensitivity]\n",
    "            )\n",
    "        else:  # True not war\n",
    "            predicted_label = np.random.choice(\n",
    "                [0, 1], p=[specificity, 1 - specificity]\n",
    "            )\n",
    "        predicted_labels.append(predicted_label)\n",
    "\n",
    "    predicted_labels = np.array(predicted_labels)\n",
    "    predicted_samples.append(predicted_labels)"
   ]
  },
  {
   "cell_type": "code",
   "execution_count": null,
   "metadata": {},
   "outputs": [
    {
     "data": {
      "text/plain": [
       "187"
      ]
     },
     "metadata": {},
     "output_type": "display_data"
    }
   ],
   "source": [
    "np.sum(predicted_samples[3])"
   ]
  },
  {
   "cell_type": "code",
   "execution_count": null,
   "metadata": {},
   "outputs": [
    {
     "name": "stdout",
     "output_type": "stream",
     "text": [
      "True War Proportion: 0.2094\n",
      "Predicted War Proportion: 0.1988\n",
      "True Not War Proportion: 0.7906\n",
      "Predicted Not War Proportion: 0.8012\n"
     ]
    }
   ],
   "source": [
    "# Calculate proportions from the predicted labels\n",
    "predicted_war_proportion = np.sum(predicted_samples) / (num_simulations*size)\n",
    "predicted_not_war_proportion = 1 - predicted_war_proportion\n",
    "\n",
    "# Print the proportions\n",
    "print(f\"True War Proportion: {true_war_proportion:.4f}\")\n",
    "print(f\"Predicted War Proportion: {predicted_war_proportion:.4f}\")\n",
    "print(f\"True Not War Proportion: {true_not_war_proportion:.4f}\")\n",
    "print(f\"Predicted Not War Proportion: {predicted_not_war_proportion:.4f}\")"
   ]
  },
  {
   "cell_type": "code",
   "execution_count": null,
   "metadata": {},
   "outputs": [
    {
     "data": {
      "image/png": "[encoded data removed]",
      "text/plain": [
       "<Figure size 640x400 with 1 Axes>"
      ]
     },
     "metadata": {},
     "output_type": "display_data"
    }
   ],
   "source": [
    "# Set plots style\n",
    "plt.style.use('seaborn-v0_8-paper')\n",
    "\n",
    "# Set the size of the chart\n",
    "plt.figure(figsize=(6.4, 4))\n",
    "\n",
    "# Count the number of 1's in each sample for predicted samples\n",
    "modified_count_of_ones = [sum(sample) for sample in predicted_samples]\n",
    "\n",
    "default_colours = plt.rcParams['axes.prop_cycle'].by_key()['color']\n",
    "\n",
    "# Calculate means for both distributions\n",
    "mean_original = np.sum(ground_truth)\n",
    "mean_predicted = np.mean(modified_count_of_ones)\n",
    "\n",
    "# Plot histograms of the counts of 1's\n",
    "# plt.hist(original_count_of_ones, bins=range(0, 51, 1), alpha=0.5, label='Original Sampling', edgecolor='black')\n",
    "plt.hist(modified_count_of_ones, alpha=0.5, edgecolor='black', color=default_colours[1])\n",
    "\n",
    "# Add vertical lines for the means\n",
    "plt.axvline(mean_original, label='Ground Truth', color='black', linestyle='dashed', linewidth=1)\n",
    "plt.axvline(mean_predicted, label='Mean Predicted', color=default_colours[1], linestyle='dashed', linewidth=1)\n",
    "\n",
    "# Add text for the means\n",
    "plt.text(mean_original+0.5, plt.ylim()[1] * 0.98, f'{mean_original:.0f}', color='black')\n",
    "plt.text(mean_predicted+0.5, plt.ylim()[1] * 0.98, f'{mean_predicted:.0f}', color=default_colours[1])\n",
    "\n",
    "# Add titles and labels\n",
    "#plt.title('Predictions distribution')\n",
    "plt.xlabel('Number of 1s (war)')\n",
    "plt.ylabel('Frequency')\n",
    "# plt.xticks(range(0, 51, 5))\n",
    "plt.yticks(range(0, 3600, 500))\n",
    "\n",
    "# Add legend\n",
    "plt.legend(loc='upper right')\n",
    "\n",
    "plt.savefig(\n",
    "    'C:/Users/gatla/OneDrive/BSE/Thesis/charts/bias_correction_hist1.pdf',\n",
    "    bbox_inches='tight',\n",
    ")\n",
    "\n",
    "# Show the plot\n",
    "plt.show()"
   ]
  },
  {
   "cell_type": "markdown",
   "metadata": {},
   "source": [
    "## Correcting for the bias"
   ]
  },
  {
   "cell_type": "code",
   "execution_count": null,
   "metadata": {},
   "outputs": [],
   "source": [
    "# Using conditional probabilities to correct for bias\n",
    "corrected_samples = []\n",
    "\n",
    "for predicted_labels in predicted_samples:\n",
    "    corrected_labels = []\n",
    "    for label in predicted_labels:\n",
    "        if label == 1:  # Predicted war\n",
    "            corrected_label = np.random.choice(\n",
    "                [1, 0], p=[precision, 1 - precision]\n",
    "            )\n",
    "        else:  # Predicted not war\n",
    "            corrected_label = np.random.choice(\n",
    "                [0, 1], p=[negative_predictive_value, 1 - negative_predictive_value]\n",
    "            )\n",
    "        corrected_labels.append(corrected_label)\n",
    "    \n",
    "    corrected_labels = np.array(corrected_labels)\n",
    "    corrected_samples.append(corrected_labels)"
   ]
  },
  {
   "cell_type": "code",
   "execution_count": null,
   "metadata": {},
   "outputs": [
    {
     "data": {
      "image/png": "[encoded data removed]",
      "text/plain": [
       "<Figure size 640x400 with 1 Axes>"
      ]
     },
     "metadata": {},
     "output_type": "display_data"
    }
   ],
   "source": [
    "plt.figure(figsize=(6.4, 4))\n",
    "\n",
    "# Count the number of 1's in each sample for predicted samples\n",
    "modified_count_of_ones = [sum(sample) for sample in predicted_samples]\n",
    "corrected_count_of_ones = [np.sum(sample) for sample in corrected_samples]\n",
    "\n",
    "# Calculate mean\n",
    "mean_corrected = np.mean(corrected_count_of_ones)\n",
    "mean_original = np.sum(ground_truth)\n",
    "mean_predicted = np.mean(modified_count_of_ones)\n",
    "\n",
    "default_colours = plt.rcParams['axes.prop_cycle'].by_key()['color']\n",
    "\n",
    "\n",
    "# Plot histograms of the counts of 1's\n",
    "plt.hist(corrected_count_of_ones, alpha=0.5, edgecolor='black',color=default_colours[0] )\n",
    "plt.hist(modified_count_of_ones, alpha=0.5, edgecolor='black', color=default_colours[1] )\n",
    "\n",
    "# Add vertical lines for the means\n",
    "plt.axvline(mean_original, label='Ground Truth', color='black', linestyle='dashed', linewidth=1)\n",
    "plt.axvline(mean_predicted, label='Mean Predicted', color=default_colours[1], linestyle='dashed', linewidth=1)\n",
    "plt.axvline(mean_corrected, label='Mean Corrected', color=default_colours[0], linestyle='dashed', linewidth=1)\n",
    "\n",
    "# Add text for the means\n",
    "plt.text(mean_original -5, plt.ylim()[1] * 0.98, f'{mean_original:.0f}')\n",
    "plt.text(mean_predicted -5, plt.ylim()[1] * 0.98, f'{mean_predicted:.0f}', color=default_colours[1])\n",
    "plt.text(mean_corrected +1, plt.ylim()[1] * 0.98, f'{mean_corrected:.0f}', color=default_colours[0])\n",
    "\n",
    "# Add titles and labels\n",
    "#plt.title('Predictions distribution')\n",
    "plt.xlabel('Number of 1s (war)')\n",
    "plt.ylabel('Frequency')\n",
    "# plt.xticks(range(0, 51, 5))\n",
    "plt.yticks(range(0, 3600, 500))\n",
    "\n",
    "# Add legend\n",
    "plt.legend(loc='upper right')\n",
    "\n",
    "plt.savefig(\n",
    "    'C:/Users/gatla/OneDrive/BSE/Thesis/charts/bias_correction_hist2.pdf',\n",
    "    bbox_inches='tight',\n",
    ")\n",
    "\n",
    "# Show the plot\n",
    "plt.show()"
   ]
  },
  {
   "cell_type": "markdown",
   "metadata": {},
   "source": [
    "## Correcting real predictions"
   ]
  },
  {
   "cell_type": "code",
   "execution_count": 4,
   "metadata": {},
   "outputs": [],
   "source": [
    "# Load predictions\n",
    "a3_preds = pd.read_csv('predictions/atres_predictions.csv')\n",
    "la6_preds = pd.read_csv('predictions/la6_predictions.csv')\n",
    "t5_preds = pd.read_csv('predictions/telecinco_predictions.csv')"
   ]
  },
  {
   "cell_type": "code",
   "execution_count": 13,
   "metadata": {},
   "outputs": [],
   "source": [
    "# Create list with the different list of predictions for channels\n",
    "predicted_real = [a3_preds['predicted_class'].tolist(), la6_preds['predicted_class'].tolist(), t5_preds['predicted_class'].tolist()]\n",
    "\n",
    "# Using conditional probabilities to correct for bias\n",
    "corrected_real = []\n",
    "\n",
    "for predicted_labels in predicted_real:\n",
    "    corrected_labels = []\n",
    "    for label in predicted_labels:\n",
    "        if label == 1:  # Predicted war\n",
    "            corrected_label = np.random.choice(\n",
    "                [1, 0], p=[precision, 1 - precision]\n",
    "            )\n",
    "        else:  # Predicted not war\n",
    "            corrected_label = np.random.choice(\n",
    "                [0, 1], p=[negative_predictive_value, 1 - negative_predictive_value]\n",
    "            )\n",
    "        corrected_labels.append(corrected_label)\n",
    "    \n",
    "    corrected_labels = np.array(corrected_labels)\n",
    "    corrected_real.append(corrected_labels)"
   ]
  },
  {
   "cell_type": "code",
   "execution_count": 19,
   "metadata": {},
   "outputs": [],
   "source": [
    "# Add new predictions to dataframe\n",
    "a3_preds['corrected_preds'] = corrected_real[0]\n",
    "la6_preds['corrected_preds'] = corrected_real[1]\n",
    "t5_preds['corrected_preds'] = corrected_real[2]"
   ]
  },
  {
   "cell_type": "code",
   "execution_count": 23,
   "metadata": {},
   "outputs": [],
   "source": [
    "# Save predictions with bias corrections\n",
    "a3_preds.to_csv('predictions/a3_bias_corrected.csv', index=False)\n",
    "la6_preds.to_csv('predictions/la6_bias_corrected.csv', index=False)\n",
    "t5_preds.to_csv('predictions/t5_bias_corrected.csv', index=False)"
   ]
  }
 ],
 "metadata": {
  "kernelspec": {
   "display_name": "pytorch_image",
   "language": "python",
   "name": "python3"
  },
  "language_info": {
   "codemirror_mode": {
    "name": "ipython",
    "version": 3
   },
   "file_extension": ".py",
   "mimetype": "text/x-python",
   "name": "python",
   "nbconvert_exporter": "python",
   "pygments_lexer": "ipython3",
   "version": "3.10.14"
  }
 },
 "nbformat": 4,
 "nbformat_minor": 2
}
