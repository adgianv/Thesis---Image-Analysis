{
 "cells": [
  {
   "cell_type": "code",
   "execution_count": 2,
   "id": "24cad4a7",
   "metadata": {},
   "outputs": [],
   "source": [
    "import pandas as pd\n",
    "import shutil"
   ]
  },
  {
   "cell_type": "markdown",
   "id": "6b8245b6",
   "metadata": {},
   "source": [
    "## Load the topics file"
   ]
  },
  {
   "cell_type": "code",
   "execution_count": 37,
   "id": "cc261496",
   "metadata": {},
   "outputs": [
    {
     "data": {
      "text/html": [
       "<div>\n",
       "<style scoped>\n",
       "    .dataframe tbody tr th:only-of-type {\n",
       "        vertical-align: middle;\n",
       "    }\n",
       "\n",
       "    .dataframe tbody tr th {\n",
       "        vertical-align: top;\n",
       "    }\n",
       "\n",
       "    .dataframe thead th {\n",
       "        text-align: right;\n",
       "    }\n",
       "</style>\n",
       "<table border=\"1\" class=\"dataframe\">\n",
       "  <thead>\n",
       "    <tr style=\"text-align: right;\">\n",
       "      <th></th>\n",
       "      <th>date</th>\n",
       "      <th>channel</th>\n",
       "      <th>minute</th>\n",
       "      <th>text</th>\n",
       "      <th>words_topic</th>\n",
       "    </tr>\n",
       "  </thead>\n",
       "  <tbody>\n",
       "    <tr>\n",
       "      <th>18731</th>\n",
       "      <td>2024-02-24</td>\n",
       "      <td>a3</td>\n",
       "      <td>0.0</td>\n",
       "      <td>-No las habíamos visto hasta ahora. Son imágen...</td>\n",
       "      <td>['bomberos', 'edificio', 'fuego', 'incendio', ...</td>\n",
       "    </tr>\n",
       "    <tr>\n",
       "      <th>18732</th>\n",
       "      <td>2024-02-24</td>\n",
       "      <td>a3</td>\n",
       "      <td>1.0</td>\n",
       "      <td>-Uno de los dos bomberos heridos en el incendi...</td>\n",
       "      <td>['incendio', 'edificio', 'bomberos', 'explosió...</td>\n",
       "    </tr>\n",
       "    <tr>\n",
       "      <th>18733</th>\n",
       "      <td>2024-02-24</td>\n",
       "      <td>a3</td>\n",
       "      <td>2.0</td>\n",
       "      <td>Estamos atendiendo caso a caso de manera indiv...</td>\n",
       "      <td>['bomberos', 'edificio', 'fuego', 'incendio', ...</td>\n",
       "    </tr>\n",
       "    <tr>\n",
       "      <th>18734</th>\n",
       "      <td>2024-02-24</td>\n",
       "      <td>a3</td>\n",
       "      <td>3.0</td>\n",
       "      <td>venga de donde venga y caiga quien caiga. Es e...</td>\n",
       "      <td>['ucrania', 'rusia', 'putin', 'guerra', 'ruso'...</td>\n",
       "    </tr>\n",
       "    <tr>\n",
       "      <th>18735</th>\n",
       "      <td>2024-02-24</td>\n",
       "      <td>a3</td>\n",
       "      <td>4.0</td>\n",
       "      <td>lo que queda define semana. Temporal que afect...</td>\n",
       "      <td>['borrasca', 'viento', 'lluvia', 'precipitacio...</td>\n",
       "    </tr>\n",
       "  </tbody>\n",
       "</table>\n",
       "</div>"
      ],
      "text/plain": [
       "             date channel  minute  \\\n",
       "18731  2024-02-24      a3     0.0   \n",
       "18732  2024-02-24      a3     1.0   \n",
       "18733  2024-02-24      a3     2.0   \n",
       "18734  2024-02-24      a3     3.0   \n",
       "18735  2024-02-24      a3     4.0   \n",
       "\n",
       "                                                    text  \\\n",
       "18731  -No las habíamos visto hasta ahora. Son imágen...   \n",
       "18732  -Uno de los dos bomberos heridos en el incendi...   \n",
       "18733  Estamos atendiendo caso a caso de manera indiv...   \n",
       "18734  venga de donde venga y caiga quien caiga. Es e...   \n",
       "18735  lo que queda define semana. Temporal que afect...   \n",
       "\n",
       "                                             words_topic  \n",
       "18731  ['bomberos', 'edificio', 'fuego', 'incendio', ...  \n",
       "18732  ['incendio', 'edificio', 'bomberos', 'explosió...  \n",
       "18733  ['bomberos', 'edificio', 'fuego', 'incendio', ...  \n",
       "18734  ['ucrania', 'rusia', 'putin', 'guerra', 'ruso'...  \n",
       "18735  ['borrasca', 'viento', 'lluvia', 'precipitacio...  "
      ]
     },
     "execution_count": 37,
     "metadata": {},
     "output_type": "execute_result"
    }
   ],
   "source": [
    "topics = pd.read_csv('data/topics_by_minute.csv')\n",
    "topics = topics[['date', 'channel', 'minute', 'text', 'words_topic']]\n",
    "\n",
    "# Filter out the 'tve' channel\n",
    "topics = topics[topics['channel'] != 'tve']\n",
    "\n",
    "topics.head()"
   ]
  },
  {
   "cell_type": "code",
   "execution_count": 38,
   "id": "6e0eb5df",
   "metadata": {},
   "outputs": [
    {
     "data": {
      "text/plain": [
       "(50124, 5)"
      ]
     },
     "execution_count": 38,
     "metadata": {},
     "output_type": "execute_result"
    }
   ],
   "source": [
    "topics.shape"
   ]
  },
  {
   "cell_type": "code",
   "execution_count": 39,
   "id": "2d7d4421",
   "metadata": {},
   "outputs": [
    {
     "data": {
      "text/plain": [
       "(77, 5)"
      ]
     },
     "execution_count": 39,
     "metadata": {},
     "output_type": "execute_result"
    }
   ],
   "source": [
    "topics['date'] = pd.to_datetime(topics['date'])\n",
    "\n",
    "# Running the code for November only to fill in previously missing data\n",
    "topics = topics[(topics['date'].dt.month == 10) & (topics['date'].dt.year == 2023) & (topics['date'].dt.day == 7)]\n",
    "topics.shape"
   ]
  },
  {
   "cell_type": "code",
   "execution_count": 40,
   "id": "38804b4c",
   "metadata": {},
   "outputs": [
    {
     "data": {
      "text/plain": [
       "array(['a3', 'la6'], dtype=object)"
      ]
     },
     "execution_count": 40,
     "metadata": {},
     "output_type": "execute_result"
    }
   ],
   "source": [
    "topics.channel.unique()"
   ]
  },
  {
   "cell_type": "code",
   "execution_count": 41,
   "id": "fd62a4b1",
   "metadata": {},
   "outputs": [],
   "source": [
    "def get_channel_name(channel):\n",
    "    if channel == 'a3':\n",
    "        return 'atres'\n",
    "    elif channel == 'la6':\n",
    "        return 'la6'\n",
    "    elif channel == 't5':\n",
    "        return 'telecinco'\n",
    "    elif channel == 'tve':\n",
    "        return 'tve'\n",
    "\n",
    "topics['channel_fullname'] = topics['channel'].apply(get_channel_name)"
   ]
  },
  {
   "cell_type": "code",
   "execution_count": 42,
   "id": "423ef667",
   "metadata": {},
   "outputs": [
    {
     "data": {
      "text/plain": [
       "(1, 6)"
      ]
     },
     "execution_count": 42,
     "metadata": {},
     "output_type": "execute_result"
    }
   ],
   "source": [
    "# Filter the DataFrame\n",
    "topics_ua = topics[topics['words_topic'].apply(lambda x: 'ucrania' in x)]\n",
    "topics_ua.shape"
   ]
  },
  {
   "cell_type": "code",
   "execution_count": 44,
   "id": "17f2bc26",
   "metadata": {},
   "outputs": [
    {
     "name": "stderr",
     "output_type": "stream",
     "text": [
      "/var/folders/k_/pt0pmhm97jx4hphkj9n4303w0000gn/T/ipykernel_38891/2400504262.py:2: SettingWithCopyWarning: \n",
      "A value is trying to be set on a copy of a slice from a DataFrame.\n",
      "Try using .loc[row_indexer,col_indexer] = value instead\n",
      "\n",
      "See the caveats in the documentation: https://pandas.pydata.org/pandas-docs/stable/user_guide/indexing.html#returning-a-view-versus-a-copy\n",
      "  topics_ua['filename'] = topics_ua['channel_fullname'] + '_noche_' + topics_ua['date'].dt.strftime('%Y-%m-%d') + '.mp4'\n"
     ]
    },
    {
     "data": {
      "text/html": [
       "<div>\n",
       "<style scoped>\n",
       "    .dataframe tbody tr th:only-of-type {\n",
       "        vertical-align: middle;\n",
       "    }\n",
       "\n",
       "    .dataframe tbody tr th {\n",
       "        vertical-align: top;\n",
       "    }\n",
       "\n",
       "    .dataframe thead th {\n",
       "        text-align: right;\n",
       "    }\n",
       "</style>\n",
       "<table border=\"1\" class=\"dataframe\">\n",
       "  <thead>\n",
       "    <tr style=\"text-align: right;\">\n",
       "      <th></th>\n",
       "      <th>date</th>\n",
       "      <th>channel</th>\n",
       "      <th>minute</th>\n",
       "      <th>text</th>\n",
       "      <th>words_topic</th>\n",
       "      <th>channel_fullname</th>\n",
       "      <th>filename</th>\n",
       "    </tr>\n",
       "  </thead>\n",
       "  <tbody>\n",
       "    <tr>\n",
       "      <th>53372</th>\n",
       "      <td>2023-10-07</td>\n",
       "      <td>la6</td>\n",
       "      <td>1591.0</td>\n",
       "      <td>intentaba lanzar al Miura 1. En mayo las condi...</td>\n",
       "      <td>['ucrania', 'rusia', 'putin', 'guerra', 'ruso'...</td>\n",
       "      <td>la6</td>\n",
       "      <td>la6_noche_2023-10-07.mp4</td>\n",
       "    </tr>\n",
       "  </tbody>\n",
       "</table>\n",
       "</div>"
      ],
      "text/plain": [
       "            date channel  minute  \\\n",
       "53372 2023-10-07     la6  1591.0   \n",
       "\n",
       "                                                    text  \\\n",
       "53372  intentaba lanzar al Miura 1. En mayo las condi...   \n",
       "\n",
       "                                             words_topic channel_fullname  \\\n",
       "53372  ['ucrania', 'rusia', 'putin', 'guerra', 'ruso'...              la6   \n",
       "\n",
       "                       filename  \n",
       "53372  la6_noche_2023-10-07.mp4  "
      ]
     },
     "execution_count": 44,
     "metadata": {},
     "output_type": "execute_result"
    }
   ],
   "source": [
    "# Add a column for the filename\n",
    "topics_ua['filename'] = topics_ua['channel_fullname'] + '_noche_' + topics_ua['date'].dt.strftime('%Y-%m-%d') + '.mp4'\n",
    "topics_ua.head()"
   ]
  },
  {
   "cell_type": "code",
   "execution_count": 51,
   "id": "b6a98e3e",
   "metadata": {},
   "outputs": [
    {
     "data": {
      "text/plain": [
       "array([\"['ucrania', 'rusia', 'putin', 'guerra', 'ruso', 'moscú', 'rusos', 'kiev', 'ucraniano', 'zelenski']\"],\n",
       "      dtype=object)"
      ]
     },
     "execution_count": 51,
     "metadata": {},
     "output_type": "execute_result"
    }
   ],
   "source": [
    "topics_ua.words_topic.unique()"
   ]
  },
  {
   "cell_type": "code",
   "execution_count": 45,
   "id": "19c2a392",
   "metadata": {},
   "outputs": [
    {
     "data": {
      "text/plain": [
       "array(['la6'], dtype=object)"
      ]
     },
     "execution_count": 45,
     "metadata": {},
     "output_type": "execute_result"
    }
   ],
   "source": [
    "topics_ua['channel'].unique()"
   ]
  },
  {
   "cell_type": "markdown",
   "id": "6e7a63a7",
   "metadata": {},
   "source": [
    "## Extract and save frames (1 frame per second)"
   ]
  },
  {
   "cell_type": "code",
   "execution_count": 47,
   "id": "b9622eb8",
   "metadata": {},
   "outputs": [
    {
     "name": "stdout",
     "output_type": "stream",
     "text": [
      "la6_noche_2023-10-07.mp4\n"
     ]
    }
   ],
   "source": [
    "import cv2\n",
    "import os\n",
    "\n",
    "topics_ua_temp = topics_ua[topics_ua['channel'] == 'la6']\n",
    "\n",
    "processed_files = []\n",
    "\n",
    "# Iterate through the DataFrame\n",
    "for index, row in topics_ua_temp.iterrows():\n",
    "    filename = row['filename']\n",
    "    print(filename)\n",
    "    start_minute = row['minute']\n",
    "    \n",
    "    folder_name = row['channel_fullname']\n",
    "    \n",
    "    # Define video path\n",
    "    video_path = os.path.join('data', 'videos', folder_name, filename)\n",
    "    \n",
    "    # Define the folder to save the frames\n",
    "    output_folder = 'data/videos_processed'\n",
    "    output_folder = os.path.join('data', 'frames', folder_name)\n",
    "    \n",
    "    \n",
    "    # Open the video\n",
    "    cap = cv2.VideoCapture(video_path)\n",
    "    \n",
    "    # Check if the video opened successfully\n",
    "    if not cap.isOpened():\n",
    "        print(f\"Oops! We couldn't open the video: {filename}\")\n",
    "        continue\n",
    "    \n",
    "    # Set the frame position to the start of the specified minute\n",
    "    start_frame = start_minute * 60 * cap.get(cv2.CAP_PROP_FPS)\n",
    "    cap.set(cv2.CAP_PROP_POS_FRAMES, start_frame)\n",
    "    \n",
    "    # Read frames for one minute after start time\n",
    "    frame_count = 0\n",
    "    \n",
    "    while frame_count < cap.get(cv2.CAP_PROP_FPS) * 60:\n",
    "        ret, frame = cap.read()\n",
    "        if not ret:\n",
    "            break\n",
    "        \n",
    "        # Get the current frame's timestamp in seconds\n",
    "        current_time_sec = cap.get(cv2.CAP_PROP_POS_MSEC) / 1000\n",
    "        \n",
    "        # Check if the current frame corresponds to the start of a new second\n",
    "        if int(current_time_sec) % 1 == 0:\n",
    "            # Save the frame as an image\n",
    "            image_filename = os.path.join(output_folder, f\"frame_{filename.replace('.mp4', '')}_sec_{int(current_time_sec)}.jpg\") # - (start_minute * 60)\n",
    "            cv2.imwrite(image_filename, frame)\n",
    "        \n",
    "        frame_count += 1\n",
    "    \n",
    "    # Release the video capture object\n",
    "    cap.release()\n",
    "    \n",
    "    processed_files.append(filename)"
   ]
  },
  {
   "cell_type": "code",
   "execution_count": 88,
   "id": "af1a2ad3",
   "metadata": {},
   "outputs": [
    {
     "data": {
      "text/plain": [
       "288"
      ]
     },
     "execution_count": 88,
     "metadata": {},
     "output_type": "execute_result"
    }
   ],
   "source": [
    "len(list(set(processed_files)))"
   ]
  },
  {
   "cell_type": "code",
   "execution_count": 90,
   "id": "f4e78cf0",
   "metadata": {},
   "outputs": [
    {
     "data": {
      "text/plain": [
       "'data/frames/telecinco'"
      ]
     },
     "execution_count": 90,
     "metadata": {},
     "output_type": "execute_result"
    }
   ],
   "source": [
    "output_folder"
   ]
  },
  {
   "cell_type": "code",
   "execution_count": 91,
   "id": "1cc64eec",
   "metadata": {},
   "outputs": [
    {
     "name": "stdout",
     "output_type": "stream",
     "text": [
      "45630\n"
     ]
    }
   ],
   "source": [
    "# Get a list of all files in the folder\n",
    "file_names = os.listdir(output_folder)\n",
    "\n",
    "# Print the list of file names\n",
    "print(len(file_names))"
   ]
  },
  {
   "cell_type": "code",
   "execution_count": 92,
   "id": "3899d186",
   "metadata": {},
   "outputs": [
    {
     "name": "stdout",
     "output_type": "stream",
     "text": [
      "288\n"
     ]
    }
   ],
   "source": [
    "names = []\n",
    "for n in file_names:\n",
    "    names.append('_'.join(n.split('_')[1:-2]))\n",
    "    \n",
    "names = list(set(names))[1:]\n",
    "    \n",
    "print(len(names))"
   ]
  },
  {
   "cell_type": "code",
   "execution_count": 93,
   "id": "9778da53",
   "metadata": {
    "scrolled": true
   },
   "outputs": [
    {
     "data": {
      "text/plain": [
       "['telecinco_noche_2023-03-13.mp4',\n",
       " 'telecinco_noche_2023-04-27.mp4',\n",
       " 'telecinco_noche_2023-03-24.mp4',\n",
       " 'telecinco_noche_2023-03-22.mp4',\n",
       " 'telecinco_noche_2023-01-20.mp4',\n",
       " 'telecinco_noche_2023-04-02.mp4',\n",
       " 'telecinco_noche_2023-01-27.mp4',\n",
       " 'telecinco_noche_2023-10-25.mp4',\n",
       " 'telecinco_noche_2023-05-16.mp4',\n",
       " 'telecinco_noche_2023-09-11.mp4',\n",
       " 'telecinco_noche_2023-08-02.mp4',\n",
       " 'telecinco_noche_2023-02-23.mp4',\n",
       " 'telecinco_noche_2024-01-17.mp4',\n",
       " 'telecinco_noche_2023-07-29.mp4',\n",
       " 'telecinco_noche_2023-05-21.mp4',\n",
       " 'telecinco_noche_2023-06-09.mp4',\n",
       " 'telecinco_noche_2024-02-19.mp4',\n",
       " 'telecinco_noche_2023-06-07.mp4',\n",
       " 'telecinco_noche_2023-10-08.mp4',\n",
       " 'telecinco_noche_2023-01-01.mp4',\n",
       " 'telecinco_noche_2023-03-31.mp4',\n",
       " 'telecinco_noche_2022-12-19.mp4',\n",
       " 'telecinco_noche_2024-05-20.mp4',\n",
       " 'telecinco_noche_2023-01-18.mp4',\n",
       " 'telecinco_noche_2022-12-02.mp4',\n",
       " 'telecinco_noche_2023-07-20.mp4',\n",
       " 'telecinco_noche_2022-12-14.mp4',\n",
       " 'telecinco_noche_2024-01-12.mp4',\n",
       " 'telecinco_noche_2023-01-07.mp4',\n",
       " 'telecinco_noche_2022-12-29.mp4',\n",
       " 'telecinco_noche_2023-05-18.mp4',\n",
       " 'telecinco_noche_2024-02-21.mp4',\n",
       " 'telecinco_noche_2023-05-09.mp4',\n",
       " 'telecinco_noche_2023-05-24.mp4',\n",
       " 'telecinco_noche_2023-09-21.mp4',\n",
       " 'telecinco_noche_2023-07-04.mp4',\n",
       " 'telecinco_noche_2023-12-06.mp4',\n",
       " 'telecinco_noche_2023-10-17.mp4',\n",
       " 'telecinco_noche_2022-12-23.mp4',\n",
       " 'telecinco_noche_2023-09-01.mp4',\n",
       " 'telecinco_noche_2023-03-06.mp4',\n",
       " 'telecinco_noche_2023-10-04.mp4',\n",
       " 'telecinco_noche_2023-10-15.mp4',\n",
       " 'telecinco_noche_2024-04-07.mp4',\n",
       " 'telecinco_noche_2023-05-29.mp4',\n",
       " 'telecinco_noche_2023-03-08.mp4',\n",
       " 'telecinco_noche_2024-01-02.mp4',\n",
       " 'telecinco_noche_2023-09-08.mp4',\n",
       " 'telecinco_noche_2024-03-05.mp4',\n",
       " 'telecinco_noche_2023-06-14.mp4',\n",
       " 'telecinco_noche_2023-03-30.mp4',\n",
       " 'telecinco_noche_2024-01-11.mp4',\n",
       " 'telecinco_noche_2023-05-17.mp4',\n",
       " 'telecinco_noche_2023-03-19.mp4',\n",
       " 'telecinco_noche_2023-08-25.mp4',\n",
       " 'telecinco_noche_2024-02-27.mp4',\n",
       " 'telecinco_noche_2023-05-26.mp4',\n",
       " 'telecinco_noche_2023-12-15.mp4',\n",
       " 'telecinco_noche_2023-09-10.mp4',\n",
       " 'telecinco_noche_2023-10-02.mp4',\n",
       " 'telecinco_noche_2023-01-05.mp4',\n",
       " 'telecinco_noche_2023-03-10.mp4',\n",
       " 'telecinco_noche_2024-02-23.mp4',\n",
       " 'telecinco_noche_2023-08-16.mp4',\n",
       " 'telecinco_noche_2023-01-03.mp4',\n",
       " 'telecinco_noche_2024-04-05.mp4',\n",
       " 'telecinco_noche_2023-02-04.mp4',\n",
       " 'telecinco_noche_2022-12-11.mp4',\n",
       " 'telecinco_noche_2023-05-07.mp4',\n",
       " 'telecinco_noche_2024-03-21.mp4',\n",
       " 'telecinco_noche_2023-07-26.mp4',\n",
       " 'telecinco_noche_2023-01-22.mp4',\n",
       " 'telecinco_noche_2024-02-13.mp4',\n",
       " 'telecinco_noche_2024-02-28.mp4',\n",
       " 'telecinco_noche_2024-02-26.mp4',\n",
       " 'telecinco_noche_2024-03-08.mp4',\n",
       " 'telecinco_noche_2024-04-19.mp4',\n",
       " 'telecinco_noche_2023-06-13.mp4',\n",
       " 'telecinco_noche_2023-02-05.mp4',\n",
       " 'telecinco_noche_2023-08-04.mp4',\n",
       " 'telecinco_noche_2024-03-14.mp4',\n",
       " 'telecinco_noche_2023-07-02.mp4',\n",
       " 'telecinco_noche_2024-05-13.mp4',\n",
       " 'telecinco_noche_2023-01-25.mp4',\n",
       " 'telecinco_noche_2023-05-03.mp4',\n",
       " 'telecinco_noche_2024-05-17.mp4',\n",
       " 'telecinco_noche_2024-03-01.mp4',\n",
       " 'telecinco_noche_2023-12-17.mp4',\n",
       " 'telecinco_noche_2023-06-01.mp4',\n",
       " 'telecinco_noche_2023-02-16.mp4',\n",
       " 'telecinco_noche_2023-02-19.mp4',\n",
       " 'telecinco_noche_2023-09-17.mp4',\n",
       " 'telecinco_noche_2023-01-16.mp4',\n",
       " 'telecinco_noche_2023-01-26.mp4',\n",
       " 'telecinco_noche_2023-10-06.mp4',\n",
       " 'telecinco_noche_2023-02-26.mp4',\n",
       " 'telecinco_noche_2023-02-09.mp4',\n",
       " 'telecinco_noche_2023-08-31.mp4',\n",
       " 'telecinco_noche_2023-01-31.mp4',\n",
       " 'telecinco_noche_2023-02-17.mp4',\n",
       " 'telecinco_noche_2023-10-03.mp4',\n",
       " 'telecinco_noche_2023-12-13.mp4',\n",
       " 'telecinco_noche_2024-02-11.mp4',\n",
       " 'telecinco_noche_2023-03-15.mp4',\n",
       " 'telecinco_noche_2024-04-25.mp4',\n",
       " 'telecinco_noche_2023-03-07.mp4',\n",
       " 'telecinco_noche_2023-06-27.mp4',\n",
       " 'telecinco_noche_2024-05-06.mp4',\n",
       " 'telecinco_noche_2024-05-14.mp4',\n",
       " 'telecinco_noche_2024-03-04.mp4',\n",
       " 'telecinco_noche_2023-03-09.mp4',\n",
       " 'telecinco_noche_2022-12-28.mp4',\n",
       " 'telecinco_noche_2023-03-02.mp4',\n",
       " 'telecinco_noche_2023-07-21.mp4',\n",
       " 'telecinco_noche_2024-03-18.mp4',\n",
       " 'telecinco_noche_2023-03-29.mp4',\n",
       " 'telecinco_noche_2023-04-14.mp4',\n",
       " 'telecinco_noche_2024-02-09.mp4',\n",
       " 'telecinco_noche_2023-09-26.mp4',\n",
       " 'telecinco_noche_2023-06-21.mp4',\n",
       " 'telecinco_noche_2024-05-02.mp4',\n",
       " 'telecinco_noche_2023-05-30.mp4',\n",
       " 'telecinco_noche_2023-01-23.mp4',\n",
       " 'telecinco_noche_2023-02-25.mp4',\n",
       " 'telecinco_noche_2023-10-24.mp4',\n",
       " 'telecinco_noche_2024-02-15.mp4',\n",
       " 'telecinco_noche_2024-05-08.mp4',\n",
       " 'telecinco_noche_2023-06-28.mp4',\n",
       " 'telecinco_noche_2023-02-02.mp4',\n",
       " 'telecinco_noche_2023-06-17.mp4',\n",
       " 'telecinco_noche_2023-10-27.mp4',\n",
       " 'telecinco_noche_2024-02-22.mp4',\n",
       " 'telecinco_noche_2023-01-06.mp4',\n",
       " 'telecinco_noche_2023-08-22.mp4',\n",
       " 'telecinco_noche_2024-05-07.mp4',\n",
       " 'telecinco_noche_2023-01-19.mp4',\n",
       " 'telecinco_noche_2023-12-18.mp4',\n",
       " 'telecinco_noche_2024-03-20.mp4',\n",
       " 'telecinco_noche_2023-03-27.mp4',\n",
       " 'telecinco_noche_2023-04-10.mp4',\n",
       " 'telecinco_noche_2023-03-05.mp4',\n",
       " 'telecinco_noche_2023-06-18.mp4',\n",
       " 'telecinco_noche_2024-03-12.mp4',\n",
       " 'telecinco_noche_2024-05-10.mp4',\n",
       " 'telecinco_noche_2023-12-26.mp4',\n",
       " 'telecinco_noche_2023-05-11.mp4',\n",
       " 'telecinco_noche_2022-12-20.mp4',\n",
       " 'telecinco_noche_2023-05-25.mp4',\n",
       " 'telecinco_noche_2023-01-13.mp4',\n",
       " 'telecinco_noche_2023-01-24.mp4',\n",
       " 'telecinco_noche_2023-06-25.mp4',\n",
       " 'telecinco_noche_2023-05-22.mp4',\n",
       " 'telecinco_noche_2023-03-12.mp4',\n",
       " 'telecinco_noche_2024-03-19.mp4',\n",
       " 'telecinco_noche_2023-01-08.mp4',\n",
       " 'telecinco_noche_2023-03-26.mp4',\n",
       " 'telecinco_noche_2023-09-03.mp4',\n",
       " 'telecinco_noche_2023-12-11.mp4',\n",
       " 'telecinco_noche_2024-02-29.mp4',\n",
       " 'telecinco_noche_2023-10-05.mp4',\n",
       " 'telecinco_noche_2023-08-30.mp4',\n",
       " 'telecinco_noche_2023-02-10.mp4',\n",
       " 'telecinco_noche_2023-10-16.mp4',\n",
       " 'telecinco_noche_2023-04-26.mp4',\n",
       " 'telecinco_noche_2024-04-16.mp4',\n",
       " 'telecinco_noche_2024-03-25.mp4',\n",
       " 'telecinco_noche_2023-08-24.mp4',\n",
       " 'telecinco_noche_2023-03-21.mp4',\n",
       " 'telecinco_noche_2023-02-12.mp4',\n",
       " 'telecinco_noche_2023-12-31.mp4',\n",
       " 'telecinco_noche_2024-02-08.mp4',\n",
       " 'telecinco_noche_2023-07-27.mp4',\n",
       " 'telecinco_noche_2024-02-01.mp4',\n",
       " 'telecinco_noche_2023-03-03.mp4',\n",
       " 'telecinco_noche_2023-02-03.mp4',\n",
       " 'telecinco_noche_2024-05-15.mp4',\n",
       " 'telecinco_noche_2023-02-21.mp4',\n",
       " 'telecinco_noche_2023-07-01.mp4',\n",
       " 'telecinco_noche_2023-06-02.mp4',\n",
       " 'telecinco_noche_2024-02-14.mp4',\n",
       " 'telecinco_noche_2024-02-18.mp4',\n",
       " 'telecinco_noche_2023-07-19.mp4',\n",
       " 'telecinco_noche_2023-07-18.mp4',\n",
       " 'telecinco_noche_2023-04-19.mp4',\n",
       " 'telecinco_noche_2023-03-20.mp4',\n",
       " 'telecinco_noche_2024-03-15.mp4',\n",
       " 'telecinco_noche_2023-01-29.mp4',\n",
       " 'telecinco_noche_2023-04-13.mp4',\n",
       " 'telecinco_noche_2024-03-13.mp4',\n",
       " 'telecinco_noche_2023-07-24.mp4',\n",
       " 'telecinco_noche_2023-04-18.mp4',\n",
       " 'telecinco_noche_2023-09-24.mp4',\n",
       " 'telecinco_noche_2023-01-04.mp4',\n",
       " 'telecinco_noche_2023-08-07.mp4',\n",
       " 'telecinco_noche_2022-12-09.mp4',\n",
       " 'telecinco_noche_2023-09-29.mp4',\n",
       " 'telecinco_noche_2023-06-06.mp4',\n",
       " 'telecinco_noche_2023-04-17.mp4',\n",
       " 'telecinco_noche_2022-12-04.mp4',\n",
       " 'telecinco_noche_2023-03-01.mp4',\n",
       " 'telecinco_noche_2024-02-16.mp4',\n",
       " 'telecinco_noche_2023-02-27.mp4',\n",
       " 'telecinco_noche_2023-01-15.mp4',\n",
       " 'telecinco_noche_2023-12-27.mp4',\n",
       " 'telecinco_noche_2024-05-16.mp4',\n",
       " 'telecinco_noche_2022-12-26.mp4',\n",
       " 'telecinco_noche_2023-02-13.mp4',\n",
       " 'telecinco_noche_2023-04-23.mp4',\n",
       " 'telecinco_noche_2023-05-02.mp4',\n",
       " 'telecinco_noche_2024-04-17.mp4',\n",
       " 'telecinco_noche_2023-07-31.mp4',\n",
       " 'telecinco_noche_2023-05-14.mp4',\n",
       " 'telecinco_noche_2023-09-25.mp4',\n",
       " 'telecinco_noche_2023-02-24.mp4',\n",
       " 'telecinco_noche_2023-12-04.mp4',\n",
       " 'telecinco_noche_2023-03-23.mp4',\n",
       " 'telecinco_noche_2024-02-20.mp4',\n",
       " 'telecinco_noche_2023-08-20.mp4',\n",
       " 'telecinco_noche_2023-07-25.mp4',\n",
       " 'telecinco_noche_2023-09-04.mp4',\n",
       " 'telecinco_noche_2023-07-03.mp4',\n",
       " 'telecinco_noche_2023-05-12.mp4',\n",
       " 'telecinco_noche_2024-01-06.mp4',\n",
       " 'telecinco_noche_2023-10-22.mp4',\n",
       " 'telecinco_noche_2024-03-24.mp4',\n",
       " 'telecinco_noche_2022-12-21.mp4',\n",
       " 'telecinco_noche_2023-04-03.mp4',\n",
       " 'telecinco_noche_2022-12-05.mp4',\n",
       " 'telecinco_noche_2023-06-05.mp4',\n",
       " 'telecinco_noche_2023-06-04.mp4',\n",
       " 'telecinco_noche_2023-08-29.mp4',\n",
       " 'telecinco_noche_2023-08-11.mp4',\n",
       " 'telecinco_noche_2023-04-04.mp4',\n",
       " 'telecinco_noche_2024-03-22.mp4',\n",
       " 'telecinco_noche_2023-04-28.mp4',\n",
       " 'telecinco_noche_2024-02-25.mp4',\n",
       " 'telecinco_noche_2023-04-12.mp4',\n",
       " 'telecinco_noche_2023-06-11.mp4',\n",
       " 'telecinco_noche_2023-09-07.mp4',\n",
       " 'telecinco_noche_2023-09-20.mp4',\n",
       " 'telecinco_noche_2022-12-16.mp4',\n",
       " 'telecinco_noche_2023-06-29.mp4',\n",
       " 'telecinco_noche_2023-08-13.mp4',\n",
       " 'telecinco_noche_2023-02-18.mp4',\n",
       " 'telecinco_noche_2023-04-09.mp4',\n",
       " 'telecinco_noche_2023-06-19.mp4',\n",
       " 'telecinco_noche_2023-04-29.mp4',\n",
       " 'telecinco_noche_2023-07-28.mp4',\n",
       " 'telecinco_noche_2022-12-18.mp4',\n",
       " 'telecinco_noche_2023-01-10.mp4',\n",
       " 'telecinco_noche_2023-04-21.mp4',\n",
       " 'telecinco_noche_2023-12-14.mp4',\n",
       " 'telecinco_noche_2022-12-08.mp4',\n",
       " 'telecinco_noche_2023-05-15.mp4',\n",
       " 'telecinco_noche_2023-12-07.mp4',\n",
       " 'telecinco_noche_2023-05-01.mp4',\n",
       " 'telecinco_noche_2024-04-26.mp4',\n",
       " 'telecinco_noche_2023-02-20.mp4',\n",
       " 'telecinco_noche_2023-02-22.mp4',\n",
       " 'telecinco_noche_2023-09-06.mp4',\n",
       " 'telecinco_noche_2023-06-26.mp4',\n",
       " 'telecinco_noche_2024-05-12.mp4',\n",
       " 'telecinco_noche_2023-04-16.mp4',\n",
       " 'telecinco_noche_2023-12-22.mp4',\n",
       " 'telecinco_noche_2022-12-24.mp4',\n",
       " 'telecinco_noche_2023-09-19.mp4',\n",
       " 'telecinco_noche_2023-02-28.mp4',\n",
       " 'telecinco_noche_2023-12-21.mp4',\n",
       " 'telecinco_noche_2023-01-11.mp4',\n",
       " 'telecinco_noche_2023-07-16.mp4',\n",
       " 'telecinco_noche_2023-05-28.mp4',\n",
       " 'telecinco_noche_2023-08-14.mp4',\n",
       " 'telecinco_noche_2024-04-14.mp4',\n",
       " 'telecinco_noche_2022-12-22.mp4',\n",
       " 'telecinco_noche_2023-05-04.mp4',\n",
       " 'telecinco_noche_2022-12-07.mp4',\n",
       " 'telecinco_noche_2023-01-12.mp4',\n",
       " 'telecinco_noche_2023-05-05.mp4',\n",
       " 'telecinco_noche_2023-02-14.mp4',\n",
       " 'telecinco_noche_2023-03-14.mp4',\n",
       " 'telecinco_noche_2024-05-21.mp4',\n",
       " 'telecinco_noche_2023-03-17.mp4',\n",
       " 'telecinco_noche_2023-12-29.mp4',\n",
       " 'telecinco_noche_2023-10-01.mp4',\n",
       " 'telecinco_noche_2023-04-30.mp4',\n",
       " 'telecinco_noche_2023-03-16.mp4',\n",
       " 'telecinco_noche_2024-03-17.mp4',\n",
       " 'telecinco_noche_2023-08-05.mp4']"
      ]
     },
     "execution_count": 93,
     "metadata": {},
     "output_type": "execute_result"
    }
   ],
   "source": [
    "names = list(set(processed_files)) #[n + '.mp4' for n in names]\n",
    "names"
   ]
  },
  {
   "cell_type": "code",
   "execution_count": 94,
   "id": "f3313c41",
   "metadata": {},
   "outputs": [
    {
     "name": "stderr",
     "output_type": "stream",
     "text": [
      "/var/folders/k_/pt0pmhm97jx4hphkj9n4303w0000gn/T/ipykernel_45778/173866512.py:2: SettingWithCopyWarning: \n",
      "A value is trying to be set on a copy of a slice from a DataFrame.\n",
      "Try using .loc[row_indexer,col_indexer] = value instead\n",
      "\n",
      "See the caveats in the documentation: https://pandas.pydata.org/pandas-docs/stable/user_guide/indexing.html#returning-a-view-versus-a-copy\n",
      "  topics_ua_temp['file_missing'] = topics_ua_temp['filename'].apply(lambda x: 0 if x in names else 1)\n"
     ]
    }
   ],
   "source": [
    "# Add the file_missing column\n",
    "topics_ua_temp['file_missing'] = topics_ua_temp['filename'].apply(lambda x: 0 if x in names else 1)"
   ]
  },
  {
   "cell_type": "code",
   "execution_count": 96,
   "id": "d378dd11",
   "metadata": {},
   "outputs": [],
   "source": [
    "filtered_telecinco = topics_ua_temp\n",
    "filtered_telecinco.to_csv('data_telecinco.csv', index=False)"
   ]
  },
  {
   "cell_type": "markdown",
   "id": "97c9e862",
   "metadata": {},
   "source": [
    "## Choose frames for labelling"
   ]
  },
  {
   "cell_type": "code",
   "execution_count": 15,
   "id": "f29a19e0",
   "metadata": {},
   "outputs": [],
   "source": [
    "import random\n",
    "import os"
   ]
  },
  {
   "cell_type": "code",
   "execution_count": 19,
   "id": "d8a71de5",
   "metadata": {},
   "outputs": [
    {
     "name": "stdout",
     "output_type": "stream",
     "text": [
      "45630\n"
     ]
    }
   ],
   "source": [
    "file_names_telecinco = sorted(os.listdir('data/frames/telecinco'))\n",
    "file_names_atres = sorted(os.listdir('data/frames/atres'))\n",
    "file_names_la6 = sorted(os.listdir('data/frames/la6'))\n",
    "\n",
    "print(len(file_names_telecinco))"
   ]
  },
  {
   "cell_type": "code",
   "execution_count": 20,
   "id": "681e30eb",
   "metadata": {},
   "outputs": [],
   "source": [
    "file_names_telecinco = [x for x in file_names_telecinco if x != '.DS_Store']\n",
    "file_names_atres = [x for x in file_names_atres if x != '.DS_Store']\n",
    "file_names_la6 = [x for x in file_names_la6 if x != '.DS_Store']"
   ]
  },
  {
   "cell_type": "code",
   "execution_count": 21,
   "id": "5ba98c59",
   "metadata": {},
   "outputs": [
    {
     "data": {
      "text/plain": [
       "2800"
      ]
     },
     "execution_count": 21,
     "metadata": {},
     "output_type": "execute_result"
    }
   ],
   "source": [
    "# Select every 20th item starting from index 0\n",
    "selected_files_telecinco = file_names_telecinco[::20]\n",
    "selected_files_atres = file_names_atres[::20]\n",
    "selected_files_la6 = file_names_la6[::20]\n",
    "len(selected_files_la6)"
   ]
  },
  {
   "cell_type": "code",
   "execution_count": 26,
   "id": "60a8a176",
   "metadata": {},
   "outputs": [
    {
     "data": {
      "text/plain": [
       "2281"
      ]
     },
     "execution_count": 26,
     "metadata": {},
     "output_type": "execute_result"
    }
   ],
   "source": [
    "# Select every 10th item\n",
    "every_10th_telecinco = [file for i, file in enumerate(file_names_telecinco) if i % 10 == 0]\n",
    "every_10th_atres = [file for i, file in enumerate(file_names_atres) if i % 10 == 0]\n",
    "every_10th_la6 = [file for i, file in enumerate(file_names_la6) if i % 10 == 0]\n",
    "\n",
    "# Remove items already selected in every 20th\n",
    "selected_files_telecinco_new = [file for file in every_10th_telecinco if file not in selected_files_telecinco]\n",
    "selected_files_atres_new = [file for file in every_10th_atres if file not in selected_files_atres]\n",
    "selected_files_la6_new = [file for file in every_10th_la6 if file not in selected_files_la6]\n",
    "\n",
    "# Check the length of the resulting list for la6\n",
    "len(selected_files_telecinco_new)"
   ]
  },
  {
   "cell_type": "code",
   "execution_count": 31,
   "id": "e80556dc",
   "metadata": {},
   "outputs": [
    {
     "name": "stdout",
     "output_type": "stream",
     "text": [
      "Files copied successfully.\n"
     ]
    }
   ],
   "source": [
    "# Create the destination directory if it doesn't exist\n",
    "destination_folder = 'data/data_to_label/telecinco_subset_final_2'\n",
    "if not os.path.exists(destination_folder):\n",
    "    os.makedirs(destination_folder)\n",
    "\n",
    "# Copy the selected files to the destination folder\n",
    "for file_name in selected_files_telecinco_new:\n",
    "    source_path = os.path.join('data/frames/telecinco', file_name)\n",
    "    destination_path = os.path.join(destination_folder, file_name)\n",
    "    shutil.copyfile(source_path, destination_path)\n",
    "\n",
    "print(\"Files copied successfully.\")"
   ]
  },
  {
   "cell_type": "code",
   "execution_count": null,
   "id": "cbdd58f1",
   "metadata": {},
   "outputs": [],
   "source": []
  }
 ],
 "metadata": {
  "kernelspec": {
   "display_name": "Python 3 (ipykernel)",
   "language": "python",
   "name": "python3"
  },
  "language_info": {
   "codemirror_mode": {
    "name": "ipython",
    "version": 3
   },
   "file_extension": ".py",
   "mimetype": "text/x-python",
   "name": "python",
   "nbconvert_exporter": "python",
   "pygments_lexer": "ipython3",
   "version": "3.11.8"
  }
 },
 "nbformat": 4,
 "nbformat_minor": 5
}
