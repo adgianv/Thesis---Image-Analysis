{
 "cells": [
  {
   "cell_type": "code",
   "execution_count": 10,
   "metadata": {},
   "outputs": [],
   "source": [
    "import pandas as pd\n",
    "import numpy as np\n",
    "import matplotlib.pyplot as plt\n",
    "import os\n",
    "import seaborn as sns\n",
    "import statsmodels.api as sm"
   ]
  },
  {
   "cell_type": "code",
   "execution_count": 5,
   "metadata": {},
   "outputs": [
    {
     "data": {
      "text/html": [
       "<div>\n",
       "<style scoped>\n",
       "    .dataframe tbody tr th:only-of-type {\n",
       "        vertical-align: middle;\n",
       "    }\n",
       "\n",
       "    .dataframe tbody tr th {\n",
       "        vertical-align: top;\n",
       "    }\n",
       "\n",
       "    .dataframe thead th {\n",
       "        text-align: right;\n",
       "    }\n",
       "</style>\n",
       "<table border=\"1\" class=\"dataframe\">\n",
       "  <thead>\n",
       "    <tr style=\"text-align: right;\">\n",
       "      <th></th>\n",
       "      <th>Unnamed: 0</th>\n",
       "      <th>year_month</th>\n",
       "      <th>launched</th>\n",
       "      <th>share_with_ukraine</th>\n",
       "      <th>a3_share_with_ukraine</th>\n",
       "      <th>la6_share_with_ukraine</th>\n",
       "      <th>t5_share_with_ukraine</th>\n",
       "      <th>fatalities</th>\n",
       "      <th>a3_share_class_1</th>\n",
       "      <th>la6_share_class_1</th>\n",
       "      <th>t5_share_class_1</th>\n",
       "      <th>total_share_class_1</th>\n",
       "    </tr>\n",
       "  </thead>\n",
       "  <tbody>\n",
       "    <tr>\n",
       "      <th>0</th>\n",
       "      <td>0</td>\n",
       "      <td>2022-12-01</td>\n",
       "      <td>364.0</td>\n",
       "      <td>0.068872</td>\n",
       "      <td>0.091422</td>\n",
       "      <td>0.059908</td>\n",
       "      <td>0.058140</td>\n",
       "      <td>2174</td>\n",
       "      <td>0.172467</td>\n",
       "      <td>0.212945</td>\n",
       "      <td>0.198678</td>\n",
       "      <td>0.196723</td>\n",
       "    </tr>\n",
       "    <tr>\n",
       "      <th>1</th>\n",
       "      <td>1</td>\n",
       "      <td>2023-01-01</td>\n",
       "      <td>213.0</td>\n",
       "      <td>0.102060</td>\n",
       "      <td>0.147257</td>\n",
       "      <td>0.079872</td>\n",
       "      <td>0.079861</td>\n",
       "      <td>1187</td>\n",
       "      <td>0.255780</td>\n",
       "      <td>0.321944</td>\n",
       "      <td>0.318334</td>\n",
       "      <td>0.306667</td>\n",
       "    </tr>\n",
       "    <tr>\n",
       "      <th>2</th>\n",
       "      <td>2</td>\n",
       "      <td>2023-02-01</td>\n",
       "      <td>193.0</td>\n",
       "      <td>0.141184</td>\n",
       "      <td>0.195722</td>\n",
       "      <td>0.100925</td>\n",
       "      <td>0.137572</td>\n",
       "      <td>665</td>\n",
       "      <td>0.220494</td>\n",
       "      <td>0.215436</td>\n",
       "      <td>0.204096</td>\n",
       "      <td>0.211006</td>\n",
       "    </tr>\n",
       "    <tr>\n",
       "      <th>3</th>\n",
       "      <td>3</td>\n",
       "      <td>2023-03-01</td>\n",
       "      <td>181.0</td>\n",
       "      <td>0.090881</td>\n",
       "      <td>0.111977</td>\n",
       "      <td>0.076399</td>\n",
       "      <td>0.088000</td>\n",
       "      <td>866</td>\n",
       "      <td>0.265193</td>\n",
       "      <td>0.256988</td>\n",
       "      <td>0.292427</td>\n",
       "      <td>0.272245</td>\n",
       "    </tr>\n",
       "    <tr>\n",
       "      <th>4</th>\n",
       "      <td>4</td>\n",
       "      <td>2023-04-01</td>\n",
       "      <td>117.0</td>\n",
       "      <td>0.072224</td>\n",
       "      <td>0.091097</td>\n",
       "      <td>0.061329</td>\n",
       "      <td>0.065614</td>\n",
       "      <td>1135</td>\n",
       "      <td>0.221421</td>\n",
       "      <td>0.236270</td>\n",
       "      <td>0.283354</td>\n",
       "      <td>0.250800</td>\n",
       "    </tr>\n",
       "  </tbody>\n",
       "</table>\n",
       "</div>"
      ],
      "text/plain": [
       "   Unnamed: 0  year_month  launched  share_with_ukraine  \\\n",
       "0           0  2022-12-01     364.0            0.068872   \n",
       "1           1  2023-01-01     213.0            0.102060   \n",
       "2           2  2023-02-01     193.0            0.141184   \n",
       "3           3  2023-03-01     181.0            0.090881   \n",
       "4           4  2023-04-01     117.0            0.072224   \n",
       "\n",
       "   a3_share_with_ukraine  la6_share_with_ukraine  t5_share_with_ukraine  \\\n",
       "0               0.091422                0.059908               0.058140   \n",
       "1               0.147257                0.079872               0.079861   \n",
       "2               0.195722                0.100925               0.137572   \n",
       "3               0.111977                0.076399               0.088000   \n",
       "4               0.091097                0.061329               0.065614   \n",
       "\n",
       "   fatalities  a3_share_class_1  la6_share_class_1  t5_share_class_1  \\\n",
       "0        2174          0.172467           0.212945          0.198678   \n",
       "1        1187          0.255780           0.321944          0.318334   \n",
       "2         665          0.220494           0.215436          0.204096   \n",
       "3         866          0.265193           0.256988          0.292427   \n",
       "4        1135          0.221421           0.236270          0.283354   \n",
       "\n",
       "   total_share_class_1  \n",
       "0             0.196723  \n",
       "1             0.306667  \n",
       "2             0.211006  \n",
       "3             0.272245  \n",
       "4             0.250800  "
      ]
     },
     "execution_count": 5,
     "metadata": {},
     "output_type": "execute_result"
    }
   ],
   "source": [
    "# Load data\n",
    "final_df = pd.read_csv('data/aggregated_data.csv')\n",
    "final_df.head()"
   ]
  },
  {
   "cell_type": "markdown",
   "metadata": {},
   "source": [
    "## Correlation analysis"
   ]
  },
  {
   "cell_type": "code",
   "execution_count": 9,
   "metadata": {},
   "outputs": [
    {
     "name": "stdout",
     "output_type": "stream",
     "text": [
      "                        launched  fatalities  a3_share_with_ukraine  \\\n",
      "launched                1.000000   -0.255204              -0.417609   \n",
      "fatalities             -0.255204    1.000000               0.239518   \n",
      "a3_share_with_ukraine  -0.417609    0.239518               1.000000   \n",
      "la6_share_with_ukraine -0.534884    0.215755               0.904131   \n",
      "t5_share_with_ukraine  -0.441791    0.147237               0.934709   \n",
      "a3_share_class_1       -0.563479    0.160001               0.503373   \n",
      "la6_share_class_1      -0.403907    0.220396               0.374757   \n",
      "t5_share_class_1       -0.528946    0.172214               0.233042   \n",
      "\n",
      "                        la6_share_with_ukraine  t5_share_with_ukraine  \\\n",
      "launched                             -0.534884              -0.441791   \n",
      "fatalities                            0.215755               0.147237   \n",
      "a3_share_with_ukraine                 0.904131               0.934709   \n",
      "la6_share_with_ukraine                1.000000               0.876480   \n",
      "t5_share_with_ukraine                 0.876480               1.000000   \n",
      "a3_share_class_1                      0.537861               0.349542   \n",
      "la6_share_class_1                     0.409597               0.252542   \n",
      "t5_share_class_1                      0.252342               0.110726   \n",
      "\n",
      "                        a3_share_class_1  la6_share_class_1  t5_share_class_1  \n",
      "launched                       -0.563479          -0.403907         -0.528946  \n",
      "fatalities                      0.160001           0.220396          0.172214  \n",
      "a3_share_with_ukraine           0.503373           0.374757          0.233042  \n",
      "la6_share_with_ukraine          0.537861           0.409597          0.252342  \n",
      "t5_share_with_ukraine           0.349542           0.252542          0.110726  \n",
      "a3_share_class_1                1.000000           0.674690          0.754700  \n",
      "la6_share_class_1               0.674690           1.000000          0.619441  \n",
      "t5_share_class_1                0.754700           0.619441          1.000000  \n"
     ]
    },
    {
     "data": {
      "image/png": "[encoded data removed]",
      "text/plain": [
       "<Figure size 1000x800 with 2 Axes>"
      ]
     },
     "metadata": {},
     "output_type": "display_data"
    }
   ],
   "source": [
    "# Correlation matrix of all trends\n",
    "df_corr = final_df[['launched', 'fatalities', 'a3_share_with_ukraine', 'la6_share_with_ukraine', 't5_share_with_ukraine', 'a3_share_class_1', 'la6_share_class_1', 't5_share_class_1']]\n",
    "\n",
    "# Calculate the correlation matrix\n",
    "correlation_matrix = df_corr.corr()\n",
    "\n",
    "# Print the correlation matrix\n",
    "print(correlation_matrix)\n",
    "\n",
    "# Visualize the correlation matrix\n",
    "plt.figure(figsize=(10, 8))\n",
    "sns.heatmap(correlation_matrix, annot=True, cmap='coolwarm', fmt='.2f')\n",
    "plt.title('Correlation Matrix')\n",
    "plt.show()"
   ]
  },
  {
   "cell_type": "markdown",
   "metadata": {},
   "source": [
    "## Regression Analysis"
   ]
  },
  {
   "cell_type": "markdown",
   "metadata": {},
   "source": [
    "Cross channel analysis"
   ]
  },
  {
   "cell_type": "code",
   "execution_count": 11,
   "metadata": {},
   "outputs": [
    {
     "name": "stdout",
     "output_type": "stream",
     "text": [
      "                            OLS Regression Results                            \n",
      "==============================================================================\n",
      "Dep. Variable:       a3_share_class_1   R-squared:                       0.639\n",
      "Model:                            OLS   Adj. R-squared:                  0.588\n",
      "Method:                 Least Squares   F-statistic:                     12.40\n",
      "Date:                Thu, 20 Jun 2024   Prob (F-statistic):           0.000795\n",
      "Time:                        22:11:59   Log-Likelihood:                 37.615\n",
      "No. Observations:                  17   AIC:                            -69.23\n",
      "Df Residuals:                      14   BIC:                            -66.73\n",
      "Df Model:                           2                                         \n",
      "Covariance Type:            nonrobust                                         \n",
      "=====================================================================================\n",
      "                        coef    std err          t      P>|t|      [0.025      0.975]\n",
      "-------------------------------------------------------------------------------------\n",
      "const                 0.0354      0.032      1.100      0.290      -0.034       0.104\n",
      "la6_share_class_1     0.2306      0.140      1.644      0.122      -0.070       0.531\n",
      "t5_share_class_1      0.4735      0.177      2.672      0.018       0.093       0.854\n",
      "==============================================================================\n",
      "Omnibus:                        0.378   Durbin-Watson:                   1.837\n",
      "Prob(Omnibus):                  0.828   Jarque-Bera (JB):                0.510\n",
      "Skew:                           0.158   Prob(JB):                        0.775\n",
      "Kurtosis:                       2.213   Cond. No.                         30.3\n",
      "==============================================================================\n",
      "\n",
      "Notes:\n",
      "[1] Standard Errors assume that the covariance matrix of the errors is correctly specified.\n"
     ]
    },
    {
     "name": "stderr",
     "output_type": "stream",
     "text": [
      "c:\\Users\\gatla\\anaconda3\\envs\\pytorch_image\\lib\\site-packages\\scipy\\stats\\_axis_nan_policy.py:531: UserWarning: kurtosistest only valid for n>=20 ... continuing anyway, n=17\n",
      "  res = hypotest_fun_out(*samples, **kwds)\n"
     ]
    }
   ],
   "source": [
    "# A3 independent\n",
    "Y = final_df['a3_share_class_1']\n",
    "X = final_df[['la6_share_class_1', 't5_share_class_1']]\n",
    "X = sm.add_constant(X)\n",
    "\n",
    "model = sm.OLS(Y, X).fit()\n",
    "\n",
    "print(model.summary())"
   ]
  },
  {
   "cell_type": "code",
   "execution_count": 12,
   "metadata": {},
   "outputs": [
    {
     "name": "stdout",
     "output_type": "stream",
     "text": [
      "                            OLS Regression Results                            \n",
      "==============================================================================\n",
      "Dep. Variable:      la6_share_class_1   R-squared:                       0.483\n",
      "Model:                            OLS   Adj. R-squared:                  0.410\n",
      "Method:                 Least Squares   F-statistic:                     6.551\n",
      "Date:                Thu, 20 Jun 2024   Prob (F-statistic):            0.00981\n",
      "Time:                        22:14:42   Log-Likelihood:                 28.152\n",
      "No. Observations:                  17   AIC:                            -50.30\n",
      "Df Residuals:                      14   BIC:                            -47.80\n",
      "Df Model:                           2                                         \n",
      "Covariance Type:            nonrobust                                         \n",
      "====================================================================================\n",
      "                       coef    std err          t      P>|t|      [0.025      0.975]\n",
      "------------------------------------------------------------------------------------\n",
      "const               -0.0061      0.059     -0.104      0.919      -0.132       0.120\n",
      "a3_share_class_1     0.7019      0.427      1.644      0.122      -0.214       1.618\n",
      "t5_share_class_1     0.3237      0.370      0.875      0.396      -0.470       1.117\n",
      "==============================================================================\n",
      "Omnibus:                       16.466   Durbin-Watson:                   0.746\n",
      "Prob(Omnibus):                  0.000   Jarque-Bera (JB):               15.496\n",
      "Skew:                           1.673   Prob(JB):                     0.000432\n",
      "Kurtosis:                       6.268   Cond. No.                         44.7\n",
      "==============================================================================\n",
      "\n",
      "Notes:\n",
      "[1] Standard Errors assume that the covariance matrix of the errors is correctly specified.\n"
     ]
    },
    {
     "name": "stderr",
     "output_type": "stream",
     "text": [
      "c:\\Users\\gatla\\anaconda3\\envs\\pytorch_image\\lib\\site-packages\\scipy\\stats\\_axis_nan_policy.py:531: UserWarning: kurtosistest only valid for n>=20 ... continuing anyway, n=17\n",
      "  res = hypotest_fun_out(*samples, **kwds)\n"
     ]
    }
   ],
   "source": [
    "# LA6 independent\n",
    "Y = final_df['la6_share_class_1']\n",
    "X = final_df[['a3_share_class_1', 't5_share_class_1']]\n",
    "X = sm.add_constant(X)\n",
    "\n",
    "model = sm.OLS(Y, X).fit()\n",
    "\n",
    "print(model.summary())"
   ]
  },
  {
   "cell_type": "code",
   "execution_count": 13,
   "metadata": {},
   "outputs": [
    {
     "name": "stdout",
     "output_type": "stream",
     "text": [
      "                            OLS Regression Results                            \n",
      "==============================================================================\n",
      "Dep. Variable:       t5_share_class_1   R-squared:                       0.592\n",
      "Model:                            OLS   Adj. R-squared:                  0.534\n",
      "Method:                 Least Squares   F-statistic:                     10.15\n",
      "Date:                Thu, 20 Jun 2024   Prob (F-statistic):            0.00189\n",
      "Time:                        22:14:44   Log-Likelihood:                 34.132\n",
      "No. Observations:                  17   AIC:                            -62.26\n",
      "Df Residuals:                      14   BIC:                            -59.76\n",
      "Df Model:                           2                                         \n",
      "Covariance Type:            nonrobust                                         \n",
      "=====================================================================================\n",
      "                        coef    std err          t      P>|t|      [0.025      0.975]\n",
      "-------------------------------------------------------------------------------------\n",
      "const                 0.0592      0.038      1.555      0.142      -0.022       0.141\n",
      "la6_share_class_1     0.1602      0.183      0.875      0.396      -0.232       0.553\n",
      "a3_share_class_1      0.7133      0.267      2.672      0.018       0.141       1.286\n",
      "==============================================================================\n",
      "Omnibus:                        1.896   Durbin-Watson:                   1.896\n",
      "Prob(Omnibus):                  0.388   Jarque-Bera (JB):                1.052\n",
      "Skew:                          -0.228   Prob(JB):                        0.591\n",
      "Kurtosis:                       1.870   Cond. No.                         36.0\n",
      "==============================================================================\n",
      "\n",
      "Notes:\n",
      "[1] Standard Errors assume that the covariance matrix of the errors is correctly specified.\n"
     ]
    },
    {
     "name": "stderr",
     "output_type": "stream",
     "text": [
      "c:\\Users\\gatla\\anaconda3\\envs\\pytorch_image\\lib\\site-packages\\scipy\\stats\\_axis_nan_policy.py:531: UserWarning: kurtosistest only valid for n>=20 ... continuing anyway, n=17\n",
      "  res = hypotest_fun_out(*samples, **kwds)\n"
     ]
    }
   ],
   "source": [
    "# T5 independent\n",
    "Y = final_df['t5_share_class_1']\n",
    "X = final_df[['la6_share_class_1', 'a3_share_class_1']]\n",
    "X = sm.add_constant(X)\n",
    "\n",
    "model = sm.OLS(Y, X).fit()\n",
    "\n",
    "print(model.summary())"
   ]
  },
  {
   "cell_type": "markdown",
   "metadata": {},
   "source": [
    "Channels with real events"
   ]
  },
  {
   "cell_type": "markdown",
   "metadata": {},
   "source": [
    "DO THESE SEPERATELY"
   ]
  },
  {
   "cell_type": "markdown",
   "metadata": {},
   "source": [
    "PANEL REGRESSION CLUSTERED ON TIME"
   ]
  },
  {
   "cell_type": "code",
   "execution_count": 14,
   "metadata": {},
   "outputs": [
    {
     "name": "stdout",
     "output_type": "stream",
     "text": [
      "                            OLS Regression Results                            \n",
      "==============================================================================\n",
      "Dep. Variable:       a3_share_class_1   R-squared:                       0.318\n",
      "Model:                            OLS   Adj. R-squared:                  0.220\n",
      "Method:                 Least Squares   F-statistic:                     3.261\n",
      "Date:                Thu, 20 Jun 2024   Prob (F-statistic):             0.0688\n",
      "Time:                        22:17:35   Log-Likelihood:                 32.200\n",
      "No. Observations:                  17   AIC:                            -58.40\n",
      "Df Residuals:                      14   BIC:                            -55.90\n",
      "Df Model:                           2                                         \n",
      "Covariance Type:            nonrobust                                         \n",
      "==============================================================================\n",
      "                 coef    std err          t      P>|t|      [0.025      0.975]\n",
      "------------------------------------------------------------------------------\n",
      "const          0.2377      0.038      6.223      0.000       0.156       0.320\n",
      "launched      -0.0001   4.68e-05     -2.449      0.028      -0.000   -1.42e-05\n",
      "fatalities  1.999e-06   2.63e-05      0.076      0.941   -5.45e-05    5.85e-05\n",
      "==============================================================================\n",
      "Omnibus:                        1.180   Durbin-Watson:                   2.058\n",
      "Prob(Omnibus):                  0.554   Jarque-Bera (JB):                0.834\n",
      "Skew:                          -0.514   Prob(JB):                        0.659\n",
      "Kurtosis:                       2.651   Cond. No.                     4.37e+03\n",
      "==============================================================================\n",
      "\n",
      "Notes:\n",
      "[1] Standard Errors assume that the covariance matrix of the errors is correctly specified.\n",
      "[2] The condition number is large, 4.37e+03. This might indicate that there are\n",
      "strong multicollinearity or other numerical problems.\n"
     ]
    },
    {
     "name": "stderr",
     "output_type": "stream",
     "text": [
      "c:\\Users\\gatla\\anaconda3\\envs\\pytorch_image\\lib\\site-packages\\scipy\\stats\\_axis_nan_policy.py:531: UserWarning: kurtosistest only valid for n>=20 ... continuing anyway, n=17\n",
      "  res = hypotest_fun_out(*samples, **kwds)\n"
     ]
    }
   ],
   "source": [
    "# A3\n",
    "Y = final_df['a3_share_class_1']\n",
    "X = final_df[['launched', 'fatalities']]\n",
    "X = sm.add_constant(X)\n",
    "\n",
    "model = sm.OLS(Y, X).fit()\n",
    "\n",
    "print(model.summary())"
   ]
  },
  {
   "cell_type": "code",
   "execution_count": 15,
   "metadata": {},
   "outputs": [
    {
     "name": "stdout",
     "output_type": "stream",
     "text": [
      "                            OLS Regression Results                            \n",
      "==============================================================================\n",
      "Dep. Variable:      la6_share_class_1   R-squared:                       0.178\n",
      "Model:                            OLS   Adj. R-squared:                  0.060\n",
      "Method:                 Least Squares   F-statistic:                     1.514\n",
      "Date:                Thu, 20 Jun 2024   Prob (F-statistic):              0.254\n",
      "Time:                        22:17:49   Log-Likelihood:                 24.201\n",
      "No. Observations:                  17   AIC:                            -42.40\n",
      "Df Residuals:                      14   BIC:                            -39.90\n",
      "Df Model:                           2                                         \n",
      "Covariance Type:            nonrobust                                         \n",
      "==============================================================================\n",
      "                 coef    std err          t      P>|t|      [0.025      0.975]\n",
      "------------------------------------------------------------------------------\n",
      "const          0.2286      0.061      3.738      0.002       0.097       0.360\n",
      "launched      -0.0001   7.49e-05     -1.484      0.160      -0.000    4.95e-05\n",
      "fatalities  2.111e-05   4.22e-05      0.501      0.624   -6.93e-05       0.000\n",
      "==============================================================================\n",
      "Omnibus:                        5.388   Durbin-Watson:                   1.363\n",
      "Prob(Omnibus):                  0.068   Jarque-Bera (JB):                2.741\n",
      "Skew:                           0.795   Prob(JB):                        0.254\n",
      "Kurtosis:                       4.158   Cond. No.                     4.37e+03\n",
      "==============================================================================\n",
      "\n",
      "Notes:\n",
      "[1] Standard Errors assume that the covariance matrix of the errors is correctly specified.\n",
      "[2] The condition number is large, 4.37e+03. This might indicate that there are\n",
      "strong multicollinearity or other numerical problems.\n"
     ]
    },
    {
     "name": "stderr",
     "output_type": "stream",
     "text": [
      "c:\\Users\\gatla\\anaconda3\\envs\\pytorch_image\\lib\\site-packages\\scipy\\stats\\_axis_nan_policy.py:531: UserWarning: kurtosistest only valid for n>=20 ... continuing anyway, n=17\n",
      "  res = hypotest_fun_out(*samples, **kwds)\n"
     ]
    }
   ],
   "source": [
    "# LA6\n",
    "Y = final_df['la6_share_class_1']\n",
    "X = final_df[['launched', 'fatalities']]\n",
    "X = sm.add_constant(X)\n",
    "\n",
    "model = sm.OLS(Y, X).fit()\n",
    "\n",
    "print(model.summary())"
   ]
  },
  {
   "cell_type": "code",
   "execution_count": 16,
   "metadata": {},
   "outputs": [
    {
     "name": "stdout",
     "output_type": "stream",
     "text": [
      "                            OLS Regression Results                            \n",
      "==============================================================================\n",
      "Dep. Variable:       t5_share_class_1   R-squared:                       0.281\n",
      "Model:                            OLS   Adj. R-squared:                  0.179\n",
      "Method:                 Least Squares   F-statistic:                     2.739\n",
      "Date:                Thu, 20 Jun 2024   Prob (F-statistic):             0.0991\n",
      "Time:                        22:18:07   Log-Likelihood:                 29.322\n",
      "No. Observations:                  17   AIC:                            -52.64\n",
      "Df Residuals:                      14   BIC:                            -50.14\n",
      "Df Model:                           2                                         \n",
      "Covariance Type:            nonrobust                                         \n",
      "==============================================================================\n",
      "                 coef    std err          t      P>|t|      [0.025      0.975]\n",
      "------------------------------------------------------------------------------\n",
      "const          0.2754      0.045      6.087      0.000       0.178       0.372\n",
      "launched      -0.0001   5.54e-05     -2.214      0.044      -0.000   -3.82e-06\n",
      "fatalities  5.301e-06   3.12e-05      0.170      0.868   -6.16e-05    7.22e-05\n",
      "==============================================================================\n",
      "Omnibus:                        3.568   Durbin-Watson:                   2.436\n",
      "Prob(Omnibus):                  0.168   Jarque-Bera (JB):                1.354\n",
      "Skew:                           0.210   Prob(JB):                        0.508\n",
      "Kurtosis:                       1.683   Cond. No.                     4.37e+03\n",
      "==============================================================================\n",
      "\n",
      "Notes:\n",
      "[1] Standard Errors assume that the covariance matrix of the errors is correctly specified.\n",
      "[2] The condition number is large, 4.37e+03. This might indicate that there are\n",
      "strong multicollinearity or other numerical problems.\n"
     ]
    },
    {
     "name": "stderr",
     "output_type": "stream",
     "text": [
      "c:\\Users\\gatla\\anaconda3\\envs\\pytorch_image\\lib\\site-packages\\scipy\\stats\\_axis_nan_policy.py:531: UserWarning: kurtosistest only valid for n>=20 ... continuing anyway, n=17\n",
      "  res = hypotest_fun_out(*samples, **kwds)\n"
     ]
    }
   ],
   "source": [
    "# T5\n",
    "Y = final_df['t5_share_class_1']\n",
    "X = final_df[['launched', 'fatalities']]\n",
    "X = sm.add_constant(X)\n",
    "\n",
    "model = sm.OLS(Y, X).fit()\n",
    "\n",
    "print(model.summary())"
   ]
  },
  {
   "cell_type": "code",
   "execution_count": null,
   "metadata": {},
   "outputs": [],
   "source": []
  },
  {
   "cell_type": "markdown",
   "metadata": {},
   "source": [
    "## Everything below is old"
   ]
  },
  {
   "cell_type": "markdown",
   "metadata": {},
   "source": [
    "QUESTION: To we also need to do this grouping on a weekly level?"
   ]
  },
  {
   "cell_type": "markdown",
   "metadata": {},
   "source": [
    "QUESTION: Why reg and not correlation coef? How should we acutally interpret the reg?"
   ]
  },
  {
   "cell_type": "markdown",
   "metadata": {},
   "source": [
    "Adding regressions to check for correlations between trends of interest"
   ]
  },
  {
   "cell_type": "code",
   "execution_count": null,
   "metadata": {},
   "outputs": [
    {
     "data": {
      "text/html": [
       "<div>\n",
       "<style scoped>\n",
       "    .dataframe tbody tr th:only-of-type {\n",
       "        vertical-align: middle;\n",
       "    }\n",
       "\n",
       "    .dataframe tbody tr th {\n",
       "        vertical-align: top;\n",
       "    }\n",
       "\n",
       "    .dataframe thead th {\n",
       "        text-align: right;\n",
       "    }\n",
       "</style>\n",
       "<table border=\"1\" class=\"dataframe\">\n",
       "  <thead>\n",
       "    <tr style=\"text-align: right;\">\n",
       "      <th></th>\n",
       "      <th>year_month</th>\n",
       "      <th>launched</th>\n",
       "      <th>share_with_ukraine</th>\n",
       "      <th>a3_share_with_ukraine</th>\n",
       "      <th>la6_share_with_ukraine</th>\n",
       "      <th>t5_share_with_ukraine</th>\n",
       "      <th>fatalities</th>\n",
       "      <th>a3_share_class_1</th>\n",
       "      <th>la6_share_class_1</th>\n",
       "      <th>t5_share_class_1</th>\n",
       "      <th>total_share_class_1</th>\n",
       "    </tr>\n",
       "  </thead>\n",
       "  <tbody>\n",
       "    <tr>\n",
       "      <th>0</th>\n",
       "      <td>2022-12-01</td>\n",
       "      <td>364.0</td>\n",
       "      <td>0.068872</td>\n",
       "      <td>0.091422</td>\n",
       "      <td>0.059908</td>\n",
       "      <td>0.058140</td>\n",
       "      <td>2174</td>\n",
       "      <td>0.172467</td>\n",
       "      <td>0.212945</td>\n",
       "      <td>0.198678</td>\n",
       "      <td>0.196723</td>\n",
       "    </tr>\n",
       "    <tr>\n",
       "      <th>1</th>\n",
       "      <td>2023-01-01</td>\n",
       "      <td>213.0</td>\n",
       "      <td>0.102060</td>\n",
       "      <td>0.147257</td>\n",
       "      <td>0.079872</td>\n",
       "      <td>0.079861</td>\n",
       "      <td>1187</td>\n",
       "      <td>0.255780</td>\n",
       "      <td>0.321944</td>\n",
       "      <td>0.318334</td>\n",
       "      <td>0.306667</td>\n",
       "    </tr>\n",
       "    <tr>\n",
       "      <th>2</th>\n",
       "      <td>2023-02-01</td>\n",
       "      <td>193.0</td>\n",
       "      <td>0.141184</td>\n",
       "      <td>0.195722</td>\n",
       "      <td>0.100925</td>\n",
       "      <td>0.137572</td>\n",
       "      <td>665</td>\n",
       "      <td>0.220494</td>\n",
       "      <td>0.215436</td>\n",
       "      <td>0.204096</td>\n",
       "      <td>0.211006</td>\n",
       "    </tr>\n",
       "    <tr>\n",
       "      <th>3</th>\n",
       "      <td>2023-03-01</td>\n",
       "      <td>181.0</td>\n",
       "      <td>0.090881</td>\n",
       "      <td>0.111977</td>\n",
       "      <td>0.076399</td>\n",
       "      <td>0.088000</td>\n",
       "      <td>866</td>\n",
       "      <td>0.265193</td>\n",
       "      <td>0.256988</td>\n",
       "      <td>0.292427</td>\n",
       "      <td>0.272245</td>\n",
       "    </tr>\n",
       "    <tr>\n",
       "      <th>4</th>\n",
       "      <td>2023-04-01</td>\n",
       "      <td>117.0</td>\n",
       "      <td>0.072224</td>\n",
       "      <td>0.091097</td>\n",
       "      <td>0.061329</td>\n",
       "      <td>0.065614</td>\n",
       "      <td>1135</td>\n",
       "      <td>0.221421</td>\n",
       "      <td>0.236270</td>\n",
       "      <td>0.283354</td>\n",
       "      <td>0.250800</td>\n",
       "    </tr>\n",
       "  </tbody>\n",
       "</table>\n",
       "</div>"
      ],
      "text/plain": [
       "  year_month  launched  share_with_ukraine  a3_share_with_ukraine  \\\n",
       "0 2022-12-01     364.0            0.068872               0.091422   \n",
       "1 2023-01-01     213.0            0.102060               0.147257   \n",
       "2 2023-02-01     193.0            0.141184               0.195722   \n",
       "3 2023-03-01     181.0            0.090881               0.111977   \n",
       "4 2023-04-01     117.0            0.072224               0.091097   \n",
       "\n",
       "   la6_share_with_ukraine  t5_share_with_ukraine  fatalities  \\\n",
       "0                0.059908               0.058140        2174   \n",
       "1                0.079872               0.079861        1187   \n",
       "2                0.100925               0.137572         665   \n",
       "3                0.076399               0.088000         866   \n",
       "4                0.061329               0.065614        1135   \n",
       "\n",
       "   a3_share_class_1  la6_share_class_1  t5_share_class_1  total_share_class_1  \n",
       "0          0.172467           0.212945          0.198678             0.196723  \n",
       "1          0.255780           0.321944          0.318334             0.306667  \n",
       "2          0.220494           0.215436          0.204096             0.211006  \n",
       "3          0.265193           0.256988          0.292427             0.272245  \n",
       "4          0.221421           0.236270          0.283354             0.250800  "
      ]
     },
     "metadata": {},
     "output_type": "display_data"
    }
   ],
   "source": [
    "import statsmodels.api as sm\n",
    "final_df.head()"
   ]
  },
  {
   "cell_type": "markdown",
   "metadata": {},
   "source": [
    "QUESTION: Should we add correlation of coverage across channels?"
   ]
  },
  {
   "cell_type": "markdown",
   "metadata": {},
   "source": [
    "Correlation of war images across channels"
   ]
  },
  {
   "cell_type": "code",
   "execution_count": null,
   "metadata": {},
   "outputs": [
    {
     "name": "stdout",
     "output_type": "stream",
     "text": [
      "                            OLS Regression Results                            \n",
      "==============================================================================\n",
      "Dep. Variable:       a3_share_class_1   R-squared:                       0.455\n",
      "Model:                            OLS   Adj. R-squared:                  0.419\n",
      "Method:                 Least Squares   F-statistic:                     12.53\n",
      "Date:                Wed, 19 Jun 2024   Prob (F-statistic):            0.00297\n",
      "Time:                        14:27:57   Log-Likelihood:                 34.112\n",
      "No. Observations:                  17   AIC:                            -64.22\n",
      "Df Residuals:                      15   BIC:                            -62.56\n",
      "Df Model:                           1                                         \n",
      "Covariance Type:            nonrobust                                         \n",
      "=====================================================================================\n",
      "                        coef    std err          t      P>|t|      [0.025      0.975]\n",
      "-------------------------------------------------------------------------------------\n",
      "const                 0.0958      0.027      3.516      0.003       0.038       0.154\n",
      "la6_share_class_1     0.4627      0.131      3.540      0.003       0.184       0.741\n",
      "==============================================================================\n",
      "Omnibus:                        2.491   Durbin-Watson:                   1.067\n",
      "Prob(Omnibus):                  0.288   Jarque-Bera (JB):                1.606\n",
      "Skew:                          -0.747   Prob(JB):                        0.448\n",
      "Kurtosis:                       2.819   Cond. No.                         16.2\n",
      "==============================================================================\n",
      "\n",
      "Notes:\n",
      "[1] Standard Errors assume that the covariance matrix of the errors is correctly specified.\n"
     ]
    },
    {
     "name": "stderr",
     "output_type": "stream",
     "text": [
      "c:\\Users\\gatla\\anaconda3\\envs\\pytorch_image\\lib\\site-packages\\scipy\\stats\\_axis_nan_policy.py:531: UserWarning: kurtosistest only valid for n>=20 ... continuing anyway, n=17\n",
      "  res = hypotest_fun_out(*samples, **kwds)\n"
     ]
    }
   ],
   "source": [
    "# A3 on LA6\n",
    "Y = final_df['a3_share_class_1']\n",
    "X = final_df['la6_share_class_1']\n",
    "X = sm.add_constant(X)\n",
    "\n",
    "model = sm.OLS(Y, X).fit()\n",
    "\n",
    "print(model.summary())"
   ]
  },
  {
   "cell_type": "code",
   "execution_count": null,
   "metadata": {},
   "outputs": [
    {
     "name": "stdout",
     "output_type": "stream",
     "text": [
      "Correlation coefficient: 0.6746902217868095\n"
     ]
    }
   ],
   "source": [
    "# Calculate the correlation coefficient\n",
    "X = final_df['la6_share_class_1']\n",
    "correlation_matrix = np.corrcoef(X, Y)\n",
    "correlation_coefficient = correlation_matrix[0, 1]\n",
    "\n",
    "print(f\"Correlation coefficient: {correlation_coefficient}\")"
   ]
  },
  {
   "cell_type": "code",
   "execution_count": null,
   "metadata": {},
   "outputs": [
    {
     "name": "stdout",
     "output_type": "stream",
     "text": [
      "                            OLS Regression Results                            \n",
      "==============================================================================\n",
      "Dep. Variable:      la6_share_class_1   R-squared:                       0.455\n",
      "Model:                            OLS   Adj. R-squared:                  0.419\n",
      "Method:                 Least Squares   F-statistic:                     12.53\n",
      "Date:                Wed, 19 Jun 2024   Prob (F-statistic):            0.00297\n",
      "Time:                        12:44:27   Log-Likelihood:                 27.699\n",
      "No. Observations:                  17   AIC:                            -51.40\n",
      "Df Residuals:                      15   BIC:                            -49.73\n",
      "Df Model:                           1                                         \n",
      "Covariance Type:            nonrobust                                         \n",
      "====================================================================================\n",
      "                       coef    std err          t      P>|t|      [0.025      0.975]\n",
      "------------------------------------------------------------------------------------\n",
      "const                0.0138      0.054      0.258      0.800      -0.100       0.128\n",
      "a3_share_class_1     0.9838      0.278      3.540      0.003       0.392       1.576\n",
      "==============================================================================\n",
      "Omnibus:                       17.910   Durbin-Watson:                   1.061\n",
      "Prob(Omnibus):                  0.000   Jarque-Bera (JB):               17.658\n",
      "Skew:                           1.806   Prob(JB):                     0.000146\n",
      "Kurtosis:                       6.446   Cond. No.                         23.5\n",
      "==============================================================================\n",
      "\n",
      "Notes:\n",
      "[1] Standard Errors assume that the covariance matrix of the errors is correctly specified.\n"
     ]
    },
    {
     "name": "stderr",
     "output_type": "stream",
     "text": [
      "c:\\Users\\gatla\\anaconda3\\envs\\pytorch_image\\lib\\site-packages\\scipy\\stats\\_axis_nan_policy.py:531: UserWarning: kurtosistest only valid for n>=20 ... continuing anyway, n=17\n",
      "  res = hypotest_fun_out(*samples, **kwds)\n"
     ]
    }
   ],
   "source": [
    "# LA6 on A3\n",
    "Y = final_df['la6_share_class_1']\n",
    "X = final_df['a3_share_class_1']\n",
    "X = sm.add_constant(X)\n",
    "\n",
    "model = sm.OLS(Y, X).fit()\n",
    "\n",
    "print(model.summary())"
   ]
  },
  {
   "cell_type": "code",
   "execution_count": null,
   "metadata": {},
   "outputs": [
    {
     "name": "stdout",
     "output_type": "stream",
     "text": [
      "                            OLS Regression Results                            \n",
      "==============================================================================\n",
      "Dep. Variable:       a3_share_class_1   R-squared:                       0.570\n",
      "Model:                            OLS   Adj. R-squared:                  0.541\n",
      "Method:                 Least Squares   F-statistic:                     19.85\n",
      "Date:                Wed, 19 Jun 2024   Prob (F-statistic):           0.000463\n",
      "Time:                        12:42:07   Log-Likelihood:                 36.114\n",
      "No. Observations:                  17   AIC:                            -68.23\n",
      "Df Residuals:                      15   BIC:                            -66.56\n",
      "Df Model:                           1                                         \n",
      "Covariance Type:            nonrobust                                         \n",
      "====================================================================================\n",
      "                       coef    std err          t      P>|t|      [0.025      0.975]\n",
      "------------------------------------------------------------------------------------\n",
      "const                0.0406      0.034      1.200      0.249      -0.032       0.113\n",
      "t5_share_class_1     0.6540      0.147      4.455      0.000       0.341       0.967\n",
      "==============================================================================\n",
      "Omnibus:                        1.010   Durbin-Watson:                   1.717\n",
      "Prob(Omnibus):                  0.604   Jarque-Bera (JB):                0.786\n",
      "Skew:                           0.196   Prob(JB):                        0.675\n",
      "Kurtosis:                       2.023   Cond. No.                         20.7\n",
      "==============================================================================\n",
      "\n",
      "Notes:\n",
      "[1] Standard Errors assume that the covariance matrix of the errors is correctly specified.\n"
     ]
    },
    {
     "name": "stderr",
     "output_type": "stream",
     "text": [
      "c:\\Users\\gatla\\anaconda3\\envs\\pytorch_image\\lib\\site-packages\\scipy\\stats\\_axis_nan_policy.py:531: UserWarning: kurtosistest only valid for n>=20 ... continuing anyway, n=17\n",
      "  res = hypotest_fun_out(*samples, **kwds)\n"
     ]
    }
   ],
   "source": [
    "# A3 on T5\n",
    "Y = final_df['a3_share_class_1']\n",
    "X = final_df['t5_share_class_1']\n",
    "X = sm.add_constant(X)\n",
    "\n",
    "model = sm.OLS(Y, X).fit()\n",
    "\n",
    "print(model.summary())"
   ]
  },
  {
   "cell_type": "code",
   "execution_count": null,
   "metadata": {},
   "outputs": [
    {
     "name": "stdout",
     "output_type": "stream",
     "text": [
      "                            OLS Regression Results                            \n",
      "==============================================================================\n",
      "Dep. Variable:      la6_share_class_1   R-squared:                       0.384\n",
      "Model:                            OLS   Adj. R-squared:                  0.343\n",
      "Method:                 Least Squares   F-statistic:                     9.339\n",
      "Date:                Wed, 19 Jun 2024   Prob (F-statistic):            0.00801\n",
      "Time:                        12:43:28   Log-Likelihood:                 26.651\n",
      "No. Observations:                  17   AIC:                            -49.30\n",
      "Df Residuals:                      15   BIC:                            -47.64\n",
      "Df Model:                           1                                         \n",
      "Covariance Type:            nonrobust                                         \n",
      "====================================================================================\n",
      "                       coef    std err          t      P>|t|      [0.025      0.975]\n",
      "------------------------------------------------------------------------------------\n",
      "const                0.0224      0.059      0.380      0.709      -0.103       0.148\n",
      "t5_share_class_1     0.7827      0.256      3.056      0.008       0.237       1.329\n",
      "==============================================================================\n",
      "Omnibus:                        4.690   Durbin-Watson:                   0.626\n",
      "Prob(Omnibus):                  0.096   Jarque-Bera (JB):                2.223\n",
      "Skew:                           0.683   Prob(JB):                        0.329\n",
      "Kurtosis:                       4.128   Cond. No.                         20.7\n",
      "==============================================================================\n",
      "\n",
      "Notes:\n",
      "[1] Standard Errors assume that the covariance matrix of the errors is correctly specified.\n"
     ]
    },
    {
     "name": "stderr",
     "output_type": "stream",
     "text": [
      "c:\\Users\\gatla\\anaconda3\\envs\\pytorch_image\\lib\\site-packages\\scipy\\stats\\_axis_nan_policy.py:531: UserWarning: kurtosistest only valid for n>=20 ... continuing anyway, n=17\n",
      "  res = hypotest_fun_out(*samples, **kwds)\n"
     ]
    }
   ],
   "source": [
    "# LA6 on T5\n",
    "Y = final_df['la6_share_class_1']\n",
    "X = final_df['t5_share_class_1']\n",
    "X = sm.add_constant(X)\n",
    "\n",
    "model = sm.OLS(Y, X).fit()\n",
    "\n",
    "print(model.summary())"
   ]
  },
  {
   "cell_type": "code",
   "execution_count": null,
   "metadata": {},
   "outputs": [
    {
     "data": {
      "text/html": [
       "<div>\n",
       "<style scoped>\n",
       "    .dataframe tbody tr th:only-of-type {\n",
       "        vertical-align: middle;\n",
       "    }\n",
       "\n",
       "    .dataframe tbody tr th {\n",
       "        vertical-align: top;\n",
       "    }\n",
       "\n",
       "    .dataframe thead th {\n",
       "        text-align: right;\n",
       "    }\n",
       "</style>\n",
       "<table border=\"1\" class=\"dataframe\">\n",
       "  <thead>\n",
       "    <tr style=\"text-align: right;\">\n",
       "      <th></th>\n",
       "      <th>year_month</th>\n",
       "      <th>launched</th>\n",
       "      <th>share_with_ukraine</th>\n",
       "      <th>a3_share_with_ukraine</th>\n",
       "      <th>la6_share_with_ukraine</th>\n",
       "      <th>t5_share_with_ukraine</th>\n",
       "      <th>fatalities</th>\n",
       "      <th>a3_share_class_1</th>\n",
       "      <th>la6_share_class_1</th>\n",
       "      <th>t5_share_class_1</th>\n",
       "      <th>total_share_class_1</th>\n",
       "    </tr>\n",
       "  </thead>\n",
       "  <tbody>\n",
       "    <tr>\n",
       "      <th>0</th>\n",
       "      <td>2022-12-01</td>\n",
       "      <td>364.0</td>\n",
       "      <td>0.068872</td>\n",
       "      <td>0.091422</td>\n",
       "      <td>0.059908</td>\n",
       "      <td>0.058140</td>\n",
       "      <td>2174</td>\n",
       "      <td>0.172467</td>\n",
       "      <td>0.212945</td>\n",
       "      <td>0.198678</td>\n",
       "      <td>0.196723</td>\n",
       "    </tr>\n",
       "    <tr>\n",
       "      <th>1</th>\n",
       "      <td>2023-01-01</td>\n",
       "      <td>213.0</td>\n",
       "      <td>0.102060</td>\n",
       "      <td>0.147257</td>\n",
       "      <td>0.079872</td>\n",
       "      <td>0.079861</td>\n",
       "      <td>1187</td>\n",
       "      <td>0.255780</td>\n",
       "      <td>0.321944</td>\n",
       "      <td>0.318334</td>\n",
       "      <td>0.306667</td>\n",
       "    </tr>\n",
       "    <tr>\n",
       "      <th>2</th>\n",
       "      <td>2023-02-01</td>\n",
       "      <td>193.0</td>\n",
       "      <td>0.141184</td>\n",
       "      <td>0.195722</td>\n",
       "      <td>0.100925</td>\n",
       "      <td>0.137572</td>\n",
       "      <td>665</td>\n",
       "      <td>0.220494</td>\n",
       "      <td>0.215436</td>\n",
       "      <td>0.204096</td>\n",
       "      <td>0.211006</td>\n",
       "    </tr>\n",
       "    <tr>\n",
       "      <th>3</th>\n",
       "      <td>2023-03-01</td>\n",
       "      <td>181.0</td>\n",
       "      <td>0.090881</td>\n",
       "      <td>0.111977</td>\n",
       "      <td>0.076399</td>\n",
       "      <td>0.088000</td>\n",
       "      <td>866</td>\n",
       "      <td>0.265193</td>\n",
       "      <td>0.256988</td>\n",
       "      <td>0.292427</td>\n",
       "      <td>0.272245</td>\n",
       "    </tr>\n",
       "    <tr>\n",
       "      <th>4</th>\n",
       "      <td>2023-04-01</td>\n",
       "      <td>117.0</td>\n",
       "      <td>0.072224</td>\n",
       "      <td>0.091097</td>\n",
       "      <td>0.061329</td>\n",
       "      <td>0.065614</td>\n",
       "      <td>1135</td>\n",
       "      <td>0.221421</td>\n",
       "      <td>0.236270</td>\n",
       "      <td>0.283354</td>\n",
       "      <td>0.250800</td>\n",
       "    </tr>\n",
       "  </tbody>\n",
       "</table>\n",
       "</div>"
      ],
      "text/plain": [
       "  year_month  launched  share_with_ukraine  a3_share_with_ukraine  \\\n",
       "0 2022-12-01     364.0            0.068872               0.091422   \n",
       "1 2023-01-01     213.0            0.102060               0.147257   \n",
       "2 2023-02-01     193.0            0.141184               0.195722   \n",
       "3 2023-03-01     181.0            0.090881               0.111977   \n",
       "4 2023-04-01     117.0            0.072224               0.091097   \n",
       "\n",
       "   la6_share_with_ukraine  t5_share_with_ukraine  fatalities  \\\n",
       "0                0.059908               0.058140        2174   \n",
       "1                0.079872               0.079861        1187   \n",
       "2                0.100925               0.137572         665   \n",
       "3                0.076399               0.088000         866   \n",
       "4                0.061329               0.065614        1135   \n",
       "\n",
       "   a3_share_class_1  la6_share_class_1  t5_share_class_1  total_share_class_1  \n",
       "0          0.172467           0.212945          0.198678             0.196723  \n",
       "1          0.255780           0.321944          0.318334             0.306667  \n",
       "2          0.220494           0.215436          0.204096             0.211006  \n",
       "3          0.265193           0.256988          0.292427             0.272245  \n",
       "4          0.221421           0.236270          0.283354             0.250800  "
      ]
     },
     "metadata": {},
     "output_type": "display_data"
    }
   ],
   "source": [
    "final_df.head()"
   ]
  },
  {
   "cell_type": "markdown",
   "metadata": {},
   "source": [
    "Overall comparison with real data"
   ]
  },
  {
   "cell_type": "code",
   "execution_count": null,
   "metadata": {},
   "outputs": [
    {
     "name": "stdout",
     "output_type": "stream",
     "text": [
      "                            OLS Regression Results                            \n",
      "==============================================================================\n",
      "Dep. Variable:     share_with_ukraine   R-squared:                       0.229\n",
      "Model:                            OLS   Adj. R-squared:                  0.177\n",
      "Method:                 Least Squares   F-statistic:                     4.446\n",
      "Date:                Wed, 19 Jun 2024   Prob (F-statistic):             0.0522\n",
      "Time:                        12:49:56   Log-Likelihood:                 37.168\n",
      "No. Observations:                  17   AIC:                            -70.34\n",
      "Df Residuals:                      15   BIC:                            -68.67\n",
      "Df Model:                           1                                         \n",
      "Covariance Type:            nonrobust                                         \n",
      "==============================================================================\n",
      "                 coef    std err          t      P>|t|      [0.025      0.975]\n",
      "------------------------------------------------------------------------------\n",
      "const          0.0912      0.016      5.559      0.000       0.056       0.126\n",
      "launched   -6.877e-05   3.26e-05     -2.108      0.052      -0.000    7.49e-07\n",
      "==============================================================================\n",
      "Omnibus:                        0.831   Durbin-Watson:                   1.481\n",
      "Prob(Omnibus):                  0.660   Jarque-Bera (JB):                0.393\n",
      "Skew:                           0.366   Prob(JB):                        0.821\n",
      "Kurtosis:                       2.864   Cond. No.                     1.18e+03\n",
      "==============================================================================\n",
      "\n",
      "Notes:\n",
      "[1] Standard Errors assume that the covariance matrix of the errors is correctly specified.\n",
      "[2] The condition number is large, 1.18e+03. This might indicate that there are\n",
      "strong multicollinearity or other numerical problems.\n"
     ]
    },
    {
     "name": "stderr",
     "output_type": "stream",
     "text": [
      "c:\\Users\\gatla\\anaconda3\\envs\\pytorch_image\\lib\\site-packages\\scipy\\stats\\_axis_nan_policy.py:531: UserWarning: kurtosistest only valid for n>=20 ... continuing anyway, n=17\n",
      "  res = hypotest_fun_out(*samples, **kwds)\n"
     ]
    }
   ],
   "source": [
    "# Percentage of coverage on missiles launched\n",
    "Y = final_df['share_with_ukraine']\n",
    "X = final_df['launched']\n",
    "X = sm.add_constant(X)\n",
    "\n",
    "model = sm.OLS(Y, X).fit()\n",
    "\n",
    "print(model.summary())"
   ]
  },
  {
   "cell_type": "code",
   "execution_count": null,
   "metadata": {},
   "outputs": [
    {
     "name": "stdout",
     "output_type": "stream",
     "text": [
      "                            OLS Regression Results                            \n",
      "==============================================================================\n",
      "Dep. Variable:     share_with_ukraine   R-squared:                       0.046\n",
      "Model:                            OLS   Adj. R-squared:                 -0.018\n",
      "Method:                 Least Squares   F-statistic:                    0.7164\n",
      "Date:                Wed, 19 Jun 2024   Prob (F-statistic):              0.411\n",
      "Time:                        12:50:51   Log-Likelihood:                 35.358\n",
      "No. Observations:                  17   AIC:                            -66.72\n",
      "Df Residuals:                      15   BIC:                            -65.05\n",
      "Df Model:                           1                                         \n",
      "Covariance Type:            nonrobust                                         \n",
      "==============================================================================\n",
      "                 coef    std err          t      P>|t|      [0.025      0.975]\n",
      "------------------------------------------------------------------------------\n",
      "const          0.0434      0.021      2.056      0.058      -0.002       0.088\n",
      "fatalities  1.729e-05   2.04e-05      0.846      0.411   -2.63e-05    6.08e-05\n",
      "==============================================================================\n",
      "Omnibus:                        9.199   Durbin-Watson:                   0.861\n",
      "Prob(Omnibus):                  0.010   Jarque-Bera (JB):                5.951\n",
      "Skew:                           1.243   Prob(JB):                       0.0510\n",
      "Kurtosis:                       4.491   Cond. No.                     2.79e+03\n",
      "==============================================================================\n",
      "\n",
      "Notes:\n",
      "[1] Standard Errors assume that the covariance matrix of the errors is correctly specified.\n",
      "[2] The condition number is large, 2.79e+03. This might indicate that there are\n",
      "strong multicollinearity or other numerical problems.\n"
     ]
    },
    {
     "name": "stderr",
     "output_type": "stream",
     "text": [
      "c:\\Users\\gatla\\anaconda3\\envs\\pytorch_image\\lib\\site-packages\\scipy\\stats\\_axis_nan_policy.py:531: UserWarning: kurtosistest only valid for n>=20 ... continuing anyway, n=17\n",
      "  res = hypotest_fun_out(*samples, **kwds)\n"
     ]
    }
   ],
   "source": [
    "# Percentage of coverage on fatalities\n",
    "Y = final_df['share_with_ukraine']\n",
    "X = final_df['fatalities']\n",
    "X = sm.add_constant(X)\n",
    "\n",
    "model = sm.OLS(Y, X).fit()\n",
    "\n",
    "print(model.summary())"
   ]
  },
  {
   "cell_type": "code",
   "execution_count": null,
   "metadata": {},
   "outputs": [
    {
     "name": "stdout",
     "output_type": "stream",
     "text": [
      "                             OLS Regression Results                            \n",
      "===============================================================================\n",
      "Dep. Variable:     total_share_class_1   R-squared:                       0.300\n",
      "Model:                             OLS   Adj. R-squared:                  0.254\n",
      "Method:                  Least Squares   F-statistic:                     6.436\n",
      "Date:                 Wed, 19 Jun 2024   Prob (F-statistic):             0.0228\n",
      "Time:                         12:52:00   Log-Likelihood:                 29.728\n",
      "No. Observations:                   17   AIC:                            -55.46\n",
      "Df Residuals:                       15   BIC:                            -53.79\n",
      "Df Model:                            1                                         \n",
      "Covariance Type:             nonrobust                                         \n",
      "==============================================================================\n",
      "                 coef    std err          t      P>|t|      [0.025      0.975]\n",
      "------------------------------------------------------------------------------\n",
      "const          0.2606      0.025     10.249      0.000       0.206       0.315\n",
      "launched      -0.0001   5.05e-05     -2.537      0.023      -0.000   -2.05e-05\n",
      "==============================================================================\n",
      "Omnibus:                        0.116   Durbin-Watson:                   2.023\n",
      "Prob(Omnibus):                  0.943   Jarque-Bera (JB):                0.122\n",
      "Skew:                          -0.121   Prob(JB):                        0.941\n",
      "Kurtosis:                       2.663   Cond. No.                     1.18e+03\n",
      "==============================================================================\n",
      "\n",
      "Notes:\n",
      "[1] Standard Errors assume that the covariance matrix of the errors is correctly specified.\n",
      "[2] The condition number is large, 1.18e+03. This might indicate that there are\n",
      "strong multicollinearity or other numerical problems.\n"
     ]
    },
    {
     "name": "stderr",
     "output_type": "stream",
     "text": [
      "c:\\Users\\gatla\\anaconda3\\envs\\pytorch_image\\lib\\site-packages\\scipy\\stats\\_axis_nan_policy.py:531: UserWarning: kurtosistest only valid for n>=20 ... continuing anyway, n=17\n",
      "  res = hypotest_fun_out(*samples, **kwds)\n"
     ]
    }
   ],
   "source": [
    "# Percentage of war on missiles launched\n",
    "Y = final_df['total_share_class_1']\n",
    "X = final_df['launched']\n",
    "X = sm.add_constant(X)\n",
    "\n",
    "model = sm.OLS(Y, X).fit()\n",
    "\n",
    "print(model.summary())"
   ]
  },
  {
   "cell_type": "code",
   "execution_count": null,
   "metadata": {},
   "outputs": [
    {
     "name": "stdout",
     "output_type": "stream",
     "text": [
      "                             OLS Regression Results                            \n",
      "===============================================================================\n",
      "Dep. Variable:     total_share_class_1   R-squared:                       0.052\n",
      "Model:                             OLS   Adj. R-squared:                 -0.011\n",
      "Method:                  Least Squares   F-statistic:                    0.8250\n",
      "Date:                 Wed, 19 Jun 2024   Prob (F-statistic):              0.378\n",
      "Time:                         14:26:43   Log-Likelihood:                 27.149\n",
      "No. Observations:                   17   AIC:                            -50.30\n",
      "Df Residuals:                       15   BIC:                            -48.63\n",
      "Df Model:                            1                                         \n",
      "Covariance Type:             nonrobust                                         \n",
      "==============================================================================\n",
      "                 coef    std err          t      P>|t|      [0.025      0.975]\n",
      "------------------------------------------------------------------------------\n",
      "const          0.1734      0.034      5.074      0.000       0.101       0.246\n",
      "fatalities  3.008e-05   3.31e-05      0.908      0.378   -4.05e-05       0.000\n",
      "==============================================================================\n",
      "Omnibus:                        0.584   Durbin-Watson:                   1.608\n",
      "Prob(Omnibus):                  0.747   Jarque-Bera (JB):                0.644\n",
      "Skew:                           0.286   Prob(JB):                        0.725\n",
      "Kurtosis:                       2.237   Cond. No.                     2.79e+03\n",
      "==============================================================================\n",
      "\n",
      "Notes:\n",
      "[1] Standard Errors assume that the covariance matrix of the errors is correctly specified.\n",
      "[2] The condition number is large, 2.79e+03. This might indicate that there are\n",
      "strong multicollinearity or other numerical problems.\n"
     ]
    },
    {
     "name": "stderr",
     "output_type": "stream",
     "text": [
      "c:\\Users\\gatla\\anaconda3\\envs\\pytorch_image\\lib\\site-packages\\scipy\\stats\\_axis_nan_policy.py:531: UserWarning: kurtosistest only valid for n>=20 ... continuing anyway, n=17\n",
      "  res = hypotest_fun_out(*samples, **kwds)\n"
     ]
    }
   ],
   "source": [
    "# Percentage of war on fatalities\n",
    "Y = final_df['total_share_class_1']\n",
    "X = final_df['fatalities']\n",
    "X = sm.add_constant(X)\n",
    "\n",
    "model = sm.OLS(Y, X).fit()\n",
    "\n",
    "print(model.summary())"
   ]
  },
  {
   "cell_type": "code",
   "execution_count": null,
   "metadata": {},
   "outputs": [
    {
     "name": "stdout",
     "output_type": "stream",
     "text": [
      "Correlation coefficient: 0.22832522948927397\n"
     ]
    }
   ],
   "source": [
    "# Calculate the correlation coefficient\n",
    "X = final_df['fatalities']\n",
    "correlation_matrix = np.corrcoef(X, Y)\n",
    "correlation_coefficient = correlation_matrix[0, 1]\n",
    "\n",
    "print(f\"Correlation coefficient: {correlation_coefficient}\")"
   ]
  },
  {
   "cell_type": "code",
   "execution_count": null,
   "metadata": {},
   "outputs": [
    {
     "name": "stdout",
     "output_type": "stream",
     "text": [
      "\n",
      "====================================\n",
      "                 Fatalities Launched\n",
      "------------------------------------\n",
      "const            0.17***    0.26*** \n",
      "                 (0.03)     (0.03)  \n",
      "fatalities       0.00               \n",
      "                 (0.00)             \n",
      "launched                    -0.00** \n",
      "                            (0.00)  \n",
      "R-squared        0.05       0.30    \n",
      "R-squared Adj.   -0.01      0.25    \n",
      "No. observations 17         17      \n",
      "R-squared        0.05       0.30    \n",
      "====================================\n",
      "Standard errors in parentheses.\n",
      "* p<.1, ** p<.05, ***p<.01\n"
     ]
    }
   ],
   "source": [
    "# Combining testing\n",
    "from statsmodels.iolib.summary2 import summary_col\n",
    "\n",
    "# Fit the models\n",
    "# Percentage of war on fatalities\n",
    "Y = final_df['total_share_class_1']\n",
    "X = final_df['fatalities']\n",
    "X = sm.add_constant(X)\n",
    "\n",
    "model1 = sm.OLS(Y, X).fit()\n",
    "\n",
    "# Percentage of war on missiles launched\n",
    "Y = final_df['total_share_class_1']\n",
    "X = final_df['launched']\n",
    "X = sm.add_constant(X)\n",
    "\n",
    "model2 = sm.OLS(Y, X).fit()\n",
    "\n",
    "\n",
    "# Combine summaries into one table\n",
    "summary = summary_col([model1, model2], stars=True, float_format='%0.2f',\n",
    "                      model_names=['Fatalities', 'Launched'],\n",
    "                      info_dict={'R-squared': lambda x: f\"{x.rsquared:.2f}\",\n",
    "                                 'No. observations': lambda x: f\"{int(x.nobs)}\"})\n",
    "\n",
    "print(summary)"
   ]
  }
 ],
 "metadata": {
  "kernelspec": {
   "display_name": "pytorch_image",
   "language": "python",
   "name": "python3"
  },
  "language_info": {
   "codemirror_mode": {
    "name": "ipython",
    "version": 3
   },
   "file_extension": ".py",
   "mimetype": "text/x-python",
   "name": "python",
   "nbconvert_exporter": "python",
   "pygments_lexer": "ipython3",
   "version": "3.10.14"
  }
 },
 "nbformat": 4,
 "nbformat_minor": 2
}
