{
 "cells": [
  {
   "cell_type": "code",
   "execution_count": 1,
   "id": "76ae967a",
   "metadata": {},
   "outputs": [],
   "source": [
    "import os\n",
    "import pandas as pd\n",
    "import matplotlib.pyplot as plt\n",
    "\n",
    "# Set plots style\n",
    "plt.style.use('tableau-colorblind10')"
   ]
  },
  {
   "cell_type": "code",
   "execution_count": 2,
   "id": "9846ecad",
   "metadata": {},
   "outputs": [
    {
     "data": {
      "text/plain": [
       "(10339, 6)"
      ]
     },
     "execution_count": 2,
     "metadata": {},
     "output_type": "execute_result"
    }
   ],
   "source": [
    "df = pd.read_csv('data/final_labels.csv')\n",
    "df.shape"
   ]
  },
  {
   "cell_type": "code",
   "execution_count": 3,
   "id": "b1ced2b6",
   "metadata": {},
   "outputs": [
    {
     "data": {
      "text/html": [
       "<div>\n",
       "<style scoped>\n",
       "    .dataframe tbody tr th:only-of-type {\n",
       "        vertical-align: middle;\n",
       "    }\n",
       "\n",
       "    .dataframe tbody tr th {\n",
       "        vertical-align: top;\n",
       "    }\n",
       "\n",
       "    .dataframe thead th {\n",
       "        text-align: right;\n",
       "    }\n",
       "</style>\n",
       "<table border=\"1\" class=\"dataframe\">\n",
       "  <thead>\n",
       "    <tr style=\"text-align: right;\">\n",
       "      <th></th>\n",
       "      <th>channel</th>\n",
       "      <th>image</th>\n",
       "      <th>label</th>\n",
       "      <th>choice</th>\n",
       "      <th>choice_no_lc</th>\n",
       "      <th>label_no_lc</th>\n",
       "    </tr>\n",
       "  </thead>\n",
       "  <tbody>\n",
       "    <tr>\n",
       "      <th>0</th>\n",
       "      <td>atres</td>\n",
       "      <td>frame_atres_noche_2024-05-17_sec_1310.jpg</td>\n",
       "      <td>not_war</td>\n",
       "      <td>not_war</td>\n",
       "      <td>not_war</td>\n",
       "      <td>not_war</td>\n",
       "    </tr>\n",
       "    <tr>\n",
       "      <th>1</th>\n",
       "      <td>atres</td>\n",
       "      <td>frame_atres_noche_2024-05-17_sec_1290.jpg</td>\n",
       "      <td>not_war</td>\n",
       "      <td>not_war</td>\n",
       "      <td>not_war</td>\n",
       "      <td>not_war</td>\n",
       "    </tr>\n",
       "    <tr>\n",
       "      <th>2</th>\n",
       "      <td>atres</td>\n",
       "      <td>frame_atres_noche_2024-05-17_sec_1270.jpg</td>\n",
       "      <td>not_war</td>\n",
       "      <td>not_war</td>\n",
       "      <td>not_war</td>\n",
       "      <td>not_war</td>\n",
       "    </tr>\n",
       "    <tr>\n",
       "      <th>3</th>\n",
       "      <td>atres</td>\n",
       "      <td>frame_atres_noche_2024-05-17_sec_1250.jpg</td>\n",
       "      <td>not_war</td>\n",
       "      <td>not_war</td>\n",
       "      <td>not_war</td>\n",
       "      <td>not_war</td>\n",
       "    </tr>\n",
       "    <tr>\n",
       "      <th>4</th>\n",
       "      <td>atres</td>\n",
       "      <td>frame_atres_noche_2024-05-17_sec_1230.jpg</td>\n",
       "      <td>not_war</td>\n",
       "      <td>not_war</td>\n",
       "      <td>not_war</td>\n",
       "      <td>not_war</td>\n",
       "    </tr>\n",
       "  </tbody>\n",
       "</table>\n",
       "</div>"
      ],
      "text/plain": [
       "  channel                                      image    label   choice  \\\n",
       "0   atres  frame_atres_noche_2024-05-17_sec_1310.jpg  not_war  not_war   \n",
       "1   atres  frame_atres_noche_2024-05-17_sec_1290.jpg  not_war  not_war   \n",
       "2   atres  frame_atres_noche_2024-05-17_sec_1270.jpg  not_war  not_war   \n",
       "3   atres  frame_atres_noche_2024-05-17_sec_1250.jpg  not_war  not_war   \n",
       "4   atres  frame_atres_noche_2024-05-17_sec_1230.jpg  not_war  not_war   \n",
       "\n",
       "  choice_no_lc label_no_lc  \n",
       "0      not_war     not_war  \n",
       "1      not_war     not_war  \n",
       "2      not_war     not_war  \n",
       "3      not_war     not_war  \n",
       "4      not_war     not_war  "
      ]
     },
     "execution_count": 3,
     "metadata": {},
     "output_type": "execute_result"
    }
   ],
   "source": [
    "df.head()"
   ]
  },
  {
   "cell_type": "code",
   "execution_count": 4,
   "id": "00d68e13",
   "metadata": {},
   "outputs": [
    {
     "data": {
      "text/plain": [
       "label               choice                       \n",
       "low_confidence_war  low_confidence_war                983\n",
       "not_war             not_war                          7843\n",
       "war                 damaged_infrastructure            364\n",
       "                    damaged_infrastructure&anchor     135\n",
       "                    military                          746\n",
       "                    military&anchor                   268\n",
       "dtype: int64"
      ]
     },
     "execution_count": 4,
     "metadata": {},
     "output_type": "execute_result"
    }
   ],
   "source": [
    "df.groupby(['label', 'choice']).size()"
   ]
  },
  {
   "cell_type": "code",
   "execution_count": 5,
   "id": "15e7771c",
   "metadata": {},
   "outputs": [
    {
     "data": {
      "text/plain": [
       "label_no_lc  choice_no_lc                 \n",
       "not_war      not_war                          8179\n",
       "war          damaged_infrastructure            686\n",
       "             damaged_infrastructure&anchor     176\n",
       "             military                          978\n",
       "             military&anchor                   320\n",
       "dtype: int64"
      ]
     },
     "execution_count": 5,
     "metadata": {},
     "output_type": "execute_result"
    }
   ],
   "source": [
    "df.groupby(['label_no_lc', 'choice_no_lc']).size()"
   ]
  },
  {
   "cell_type": "code",
   "execution_count": 6,
   "id": "fb17415f",
   "metadata": {},
   "outputs": [
    {
     "data": {
      "text/html": [
       "<div>\n",
       "<style scoped>\n",
       "    .dataframe tbody tr th:only-of-type {\n",
       "        vertical-align: middle;\n",
       "    }\n",
       "\n",
       "    .dataframe tbody tr th {\n",
       "        vertical-align: top;\n",
       "    }\n",
       "\n",
       "    .dataframe thead th {\n",
       "        text-align: right;\n",
       "    }\n",
       "</style>\n",
       "<table border=\"1\" class=\"dataframe\">\n",
       "  <thead>\n",
       "    <tr style=\"text-align: right;\">\n",
       "      <th></th>\n",
       "      <th>label</th>\n",
       "      <th>count</th>\n",
       "    </tr>\n",
       "  </thead>\n",
       "  <tbody>\n",
       "    <tr>\n",
       "      <th>0</th>\n",
       "      <td>damaged_infrastructure</td>\n",
       "      <td>686</td>\n",
       "    </tr>\n",
       "    <tr>\n",
       "      <th>1</th>\n",
       "      <td>damaged_infrastructure&amp;anchor</td>\n",
       "      <td>176</td>\n",
       "    </tr>\n",
       "    <tr>\n",
       "      <th>2</th>\n",
       "      <td>military</td>\n",
       "      <td>978</td>\n",
       "    </tr>\n",
       "    <tr>\n",
       "      <th>3</th>\n",
       "      <td>military&amp;anchor</td>\n",
       "      <td>320</td>\n",
       "    </tr>\n",
       "    <tr>\n",
       "      <th>4</th>\n",
       "      <td>not_war</td>\n",
       "      <td>8179</td>\n",
       "    </tr>\n",
       "  </tbody>\n",
       "</table>\n",
       "</div>"
      ],
      "text/plain": [
       "                           label  count\n",
       "0         damaged_infrastructure    686\n",
       "1  damaged_infrastructure&anchor    176\n",
       "2                       military    978\n",
       "3                military&anchor    320\n",
       "4                        not_war   8179"
      ]
     },
     "execution_count": 6,
     "metadata": {},
     "output_type": "execute_result"
    }
   ],
   "source": [
    "grouped_counts = df.groupby('choice_no_lc').size()\n",
    "\n",
    "# Convert to DataFrame\n",
    "df_grouped_counts = pd.DataFrame({'label': grouped_counts.index, 'count': grouped_counts.values})\n",
    "df_grouped_counts"
   ]
  },
  {
   "cell_type": "code",
   "execution_count": 7,
   "id": "c01913bb",
   "metadata": {},
   "outputs": [
    {
     "data": {
      "text/html": [
       "<div>\n",
       "<style scoped>\n",
       "    .dataframe tbody tr th:only-of-type {\n",
       "        vertical-align: middle;\n",
       "    }\n",
       "\n",
       "    .dataframe tbody tr th {\n",
       "        vertical-align: top;\n",
       "    }\n",
       "\n",
       "    .dataframe thead th {\n",
       "        text-align: right;\n",
       "    }\n",
       "</style>\n",
       "<table border=\"1\" class=\"dataframe\">\n",
       "  <thead>\n",
       "    <tr style=\"text-align: right;\">\n",
       "      <th></th>\n",
       "      <th>label</th>\n",
       "      <th>count</th>\n",
       "    </tr>\n",
       "  </thead>\n",
       "  <tbody>\n",
       "    <tr>\n",
       "      <th>0</th>\n",
       "      <td>Damaged Infrastructure</td>\n",
       "      <td>862</td>\n",
       "    </tr>\n",
       "    <tr>\n",
       "      <th>1</th>\n",
       "      <td>Military</td>\n",
       "      <td>1298</td>\n",
       "    </tr>\n",
       "    <tr>\n",
       "      <th>2</th>\n",
       "      <td>Not War</td>\n",
       "      <td>8179</td>\n",
       "    </tr>\n",
       "  </tbody>\n",
       "</table>\n",
       "</div>"
      ],
      "text/plain": [
       "                    label  count\n",
       "0  Damaged Infrastructure    862\n",
       "1                Military   1298\n",
       "2                 Not War   8179"
      ]
     },
     "execution_count": 7,
     "metadata": {},
     "output_type": "execute_result"
    }
   ],
   "source": [
    "# Replace labels as requested\n",
    "df_grouped_counts['label'] = df_grouped_counts['label'].replace({'damaged_infrastructure&anchor': 'Damaged Infrastructure'})\n",
    "df_grouped_counts['label'] = df_grouped_counts['label'].replace({'damaged_infrastructure': 'Damaged Infrastructure'})\n",
    "\n",
    "df_grouped_counts['label'] = df_grouped_counts['label'].replace({'military': 'Military'})\n",
    "df_grouped_counts['label'] = df_grouped_counts['label'].replace({'military&anchor': 'Military'})\n",
    "df_grouped_counts['label'] = df_grouped_counts['label'].replace({'not_war': 'Not War'})\n",
    "\n",
    "# Group by the updated labels\n",
    "grouped_counts = df_grouped_counts.groupby('label')['count'].sum().reset_index()\n",
    "\n",
    "# Display the grouped DataFrame\n",
    "grouped_counts"
   ]
  },
  {
   "cell_type": "code",
   "execution_count": 8,
   "id": "e021744e",
   "metadata": {},
   "outputs": [
    {
     "data": {
      "image/png": "[encoded data removed]",
      "text/plain": [
       "<Figure size 800x500 with 1 Axes>"
      ]
     },
     "metadata": {},
     "output_type": "display_data"
    }
   ],
   "source": [
    "# Sort the DataFrame by count in descending order\n",
    "grouped_counts_sorted = grouped_counts.sort_values(by='count', ascending=False)\n",
    "\n",
    "# Set the size of the chart\n",
    "plt.figure(figsize=(8, 5))\n",
    "\n",
    "# Define colors for bars\n",
    "colors = ['SkyBlue' if label == 'Not War' else 'Orange' for label in grouped_counts_sorted['label']]\n",
    "\n",
    "# Plot the bar chart\n",
    "bars = plt.bar(grouped_counts_sorted['label'], grouped_counts_sorted['count'], color=colors)\n",
    "plt.title('Label Count')\n",
    "\n",
    "# Add numbers on top of bars\n",
    "for bar in bars:\n",
    "    yval = bar.get_height()\n",
    "    plt.text(bar.get_x() + bar.get_width()/2, yval + 0.5, int(yval), ha='center', va='bottom', fontsize=10)\n",
    "\n",
    "plt.tight_layout()  # Adjust layout to prevent clipping of labels\n",
    "plt.show()"
   ]
  },
  {
   "cell_type": "code",
   "execution_count": 9,
   "id": "03725649",
   "metadata": {},
   "outputs": [
    {
     "ename": "TypeError",
     "evalue": "can only concatenate str (not \"int\") to str",
     "output_type": "error",
     "traceback": [
      "\u001b[1;31m---------------------------------------------------------------------------\u001b[0m",
      "\u001b[1;31mTypeError\u001b[0m                                 Traceback (most recent call last)",
      "Cell \u001b[1;32mIn[9], line 17\u001b[0m\n\u001b[0;32m     12\u001b[0m \u001b[38;5;66;03m#plt.xlabel('Choice')\u001b[39;00m\n\u001b[0;32m     13\u001b[0m \u001b[38;5;66;03m#plt.ylabel('Count')\u001b[39;00m\n\u001b[0;32m     14\u001b[0m \n\u001b[0;32m     15\u001b[0m \u001b[38;5;66;03m# Add numbers on top of each bar with slighter higher position\u001b[39;00m\n\u001b[0;32m     16\u001b[0m \u001b[38;5;28;01mfor\u001b[39;00m i, count \u001b[38;5;129;01min\u001b[39;00m \u001b[38;5;28menumerate\u001b[39m(grouped_counts_sorted):\n\u001b[1;32m---> 17\u001b[0m     ax\u001b[38;5;241m.\u001b[39mtext(i, \u001b[43mcount\u001b[49m\u001b[43m \u001b[49m\u001b[38;5;241;43m+\u001b[39;49m\u001b[43m \u001b[49m\u001b[38;5;241;43m50\u001b[39;49m, \u001b[38;5;28mstr\u001b[39m(count), ha\u001b[38;5;241m=\u001b[39m\u001b[38;5;124m'\u001b[39m\u001b[38;5;124mcenter\u001b[39m\u001b[38;5;124m'\u001b[39m)\n\u001b[0;32m     19\u001b[0m plt\u001b[38;5;241m.\u001b[39mshow()\n",
      "\u001b[1;31mTypeError\u001b[0m: can only concatenate str (not \"int\") to str"
     ]
    },
    {
     "data": {
      "image/png": "[encoded data removed]",
      "text/plain": [
       "<Figure size 800x500 with 1 Axes>"
      ]
     },
     "metadata": {},
     "output_type": "display_data"
    }
   ],
   "source": [
    "grouped_counts_label = df.groupby('label_no_lc').size()\n",
    "\n",
    "# Sort the counts in descending order\n",
    "grouped_counts_label_sorted = grouped_counts_label.sort_values(ascending=False)\n",
    "\n",
    "# Set the size of the chart\n",
    "plt.figure(figsize=(8, 5))\n",
    "\n",
    "# Plotting the bar chart\n",
    "ax = grouped_counts_label_sorted.plot(kind='bar')\n",
    "plt.title('Label Count')\n",
    "#plt.xlabel('Choice')\n",
    "#plt.ylabel('Count')\n",
    "\n",
    "# Add numbers on top of each bar with slighter higher position\n",
    "for i, count in enumerate(grouped_counts_sorted):\n",
    "    ax.text(i, count + 50, str(count), ha='center')\n",
    "\n",
    "plt.show()"
   ]
  },
  {
   "cell_type": "markdown",
   "id": "32b0ecf3",
   "metadata": {},
   "source": [
    "## Train/Val/Test split and save as csv"
   ]
  },
  {
   "cell_type": "code",
   "execution_count": 10,
   "id": "c0300de4",
   "metadata": {},
   "outputs": [],
   "source": [
    "# Define proportions for train, validation, and test sets\n",
    "train_size = 0.7\n",
    "val_size = 0.15\n",
    "test_size = 0.15\n",
    "\n",
    "# Calculate size of dfs based on proportions\n",
    "num_total = len(df)\n",
    "num_train = int(train_size * num_total)\n",
    "num_val = int(val_size * num_total)\n",
    "num_test = num_total - num_train - num_val\n",
    "\n",
    "# Randomly shuffle the DataFrame rows\n",
    "df_shuffled = df.sample(frac=1)  # Shuffling for randomness\n",
    "\n",
    "# Split the shuffled DataFrame into train, validation, and test DataFrames\n",
    "df_train = df_shuffled.iloc[:num_train]\n",
    "df_val = df_shuffled.iloc[num_train:num_train + num_val]\n",
    "df_test = df_shuffled.iloc[num_train + num_val:]\n",
    "\n",
    "# Reset indicies\n",
    "df_train = df_train.reset_index(drop=True)\n",
    "df_val = df_val.reset_index(drop=True)\n",
    "df_test = df_test.reset_index(drop=True)\n",
    "\n",
    "# Save dataframes\n",
    "df_train.to_csv('data/train_labels.csv', index=False)\n",
    "df_val.to_csv('data/val_labels.csv', index=False)\n",
    "df_test.to_csv('data/test_labels.csv', index=False)"
   ]
  },
  {
   "cell_type": "code",
   "execution_count": null,
   "id": "6beefc69",
   "metadata": {},
   "outputs": [],
   "source": []
  }
 ],
 "metadata": {
  "kernelspec": {
   "display_name": "pytorch_image",
   "language": "python",
   "name": "python3"
  },
  "language_info": {
   "codemirror_mode": {
    "name": "ipython",
    "version": 3
   },
   "file_extension": ".py",
   "mimetype": "text/x-python",
   "name": "python",
   "nbconvert_exporter": "python",
   "pygments_lexer": "ipython3",
   "version": "3.10.14"
  }
 },
 "nbformat": 4,
 "nbformat_minor": 5
}
