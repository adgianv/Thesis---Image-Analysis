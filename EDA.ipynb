{
 "cells": [
  {
   "cell_type": "code",
   "execution_count": 1,
   "id": "aa5f30a6",
   "metadata": {},
   "outputs": [],
   "source": [
    "import os\n",
    "import pandas as pd\n",
    "import matplotlib.pyplot as plt\n",
    "import matplotlib.patches as mpatches\n",
    "\n",
    "# Set plots style\n",
    "plt.style.use('seaborn-v0_8-paper')"
   ]
  },
  {
   "cell_type": "code",
   "execution_count": 2,
   "id": "b19dfbad",
   "metadata": {},
   "outputs": [
    {
     "data": {
      "text/plain": [
       "(10339, 6)"
      ]
     },
     "execution_count": 2,
     "metadata": {},
     "output_type": "execute_result"
    }
   ],
   "source": [
    "df = pd.read_csv('data/final_labels.csv')\n",
    "df.shape"
   ]
  },
  {
   "cell_type": "code",
   "execution_count": 3,
   "id": "8ec10bbc",
   "metadata": {},
   "outputs": [
    {
     "data": {
      "text/html": [
       "<div>\n",
       "<style scoped>\n",
       "    .dataframe tbody tr th:only-of-type {\n",
       "        vertical-align: middle;\n",
       "    }\n",
       "\n",
       "    .dataframe tbody tr th {\n",
       "        vertical-align: top;\n",
       "    }\n",
       "\n",
       "    .dataframe thead th {\n",
       "        text-align: right;\n",
       "    }\n",
       "</style>\n",
       "<table border=\"1\" class=\"dataframe\">\n",
       "  <thead>\n",
       "    <tr style=\"text-align: right;\">\n",
       "      <th></th>\n",
       "      <th>channel</th>\n",
       "      <th>image</th>\n",
       "      <th>label</th>\n",
       "      <th>choice</th>\n",
       "      <th>choice_no_lc</th>\n",
       "      <th>label_no_lc</th>\n",
       "    </tr>\n",
       "  </thead>\n",
       "  <tbody>\n",
       "    <tr>\n",
       "      <th>0</th>\n",
       "      <td>atres</td>\n",
       "      <td>frame_atres_noche_2024-05-17_sec_1310.jpg</td>\n",
       "      <td>not_war</td>\n",
       "      <td>not_war</td>\n",
       "      <td>not_war</td>\n",
       "      <td>not_war</td>\n",
       "    </tr>\n",
       "    <tr>\n",
       "      <th>1</th>\n",
       "      <td>atres</td>\n",
       "      <td>frame_atres_noche_2024-05-17_sec_1290.jpg</td>\n",
       "      <td>not_war</td>\n",
       "      <td>not_war</td>\n",
       "      <td>not_war</td>\n",
       "      <td>not_war</td>\n",
       "    </tr>\n",
       "    <tr>\n",
       "      <th>2</th>\n",
       "      <td>atres</td>\n",
       "      <td>frame_atres_noche_2024-05-17_sec_1270.jpg</td>\n",
       "      <td>not_war</td>\n",
       "      <td>not_war</td>\n",
       "      <td>not_war</td>\n",
       "      <td>not_war</td>\n",
       "    </tr>\n",
       "    <tr>\n",
       "      <th>3</th>\n",
       "      <td>atres</td>\n",
       "      <td>frame_atres_noche_2024-05-17_sec_1250.jpg</td>\n",
       "      <td>not_war</td>\n",
       "      <td>not_war</td>\n",
       "      <td>not_war</td>\n",
       "      <td>not_war</td>\n",
       "    </tr>\n",
       "    <tr>\n",
       "      <th>4</th>\n",
       "      <td>atres</td>\n",
       "      <td>frame_atres_noche_2024-05-17_sec_1230.jpg</td>\n",
       "      <td>not_war</td>\n",
       "      <td>not_war</td>\n",
       "      <td>not_war</td>\n",
       "      <td>not_war</td>\n",
       "    </tr>\n",
       "  </tbody>\n",
       "</table>\n",
       "</div>"
      ],
      "text/plain": [
       "  channel                                      image    label   choice  \\\n",
       "0   atres  frame_atres_noche_2024-05-17_sec_1310.jpg  not_war  not_war   \n",
       "1   atres  frame_atres_noche_2024-05-17_sec_1290.jpg  not_war  not_war   \n",
       "2   atres  frame_atres_noche_2024-05-17_sec_1270.jpg  not_war  not_war   \n",
       "3   atres  frame_atres_noche_2024-05-17_sec_1250.jpg  not_war  not_war   \n",
       "4   atres  frame_atres_noche_2024-05-17_sec_1230.jpg  not_war  not_war   \n",
       "\n",
       "  choice_no_lc label_no_lc  \n",
       "0      not_war     not_war  \n",
       "1      not_war     not_war  \n",
       "2      not_war     not_war  \n",
       "3      not_war     not_war  \n",
       "4      not_war     not_war  "
      ]
     },
     "execution_count": 3,
     "metadata": {},
     "output_type": "execute_result"
    }
   ],
   "source": [
    "df.head()"
   ]
  },
  {
   "cell_type": "code",
   "execution_count": 4,
   "id": "10821615",
   "metadata": {},
   "outputs": [
    {
     "data": {
      "text/plain": [
       "label               choice                       \n",
       "low_confidence_war  low_confidence_war                983\n",
       "not_war             not_war                          7843\n",
       "war                 damaged_infrastructure            364\n",
       "                    damaged_infrastructure&anchor     135\n",
       "                    military                          746\n",
       "                    military&anchor                   268\n",
       "dtype: int64"
      ]
     },
     "execution_count": 4,
     "metadata": {},
     "output_type": "execute_result"
    }
   ],
   "source": [
    "df.groupby(['label', 'choice']).size()"
   ]
  },
  {
   "cell_type": "code",
   "execution_count": 5,
   "id": "f4a324d8",
   "metadata": {},
   "outputs": [
    {
     "data": {
      "text/plain": [
       "label_no_lc  choice_no_lc                 \n",
       "not_war      not_war                          8179\n",
       "war          damaged_infrastructure            686\n",
       "             damaged_infrastructure&anchor     176\n",
       "             military                          978\n",
       "             military&anchor                   320\n",
       "dtype: int64"
      ]
     },
     "execution_count": 5,
     "metadata": {},
     "output_type": "execute_result"
    }
   ],
   "source": [
    "df.groupby(['label_no_lc', 'choice_no_lc']).size()"
   ]
  },
  {
   "cell_type": "code",
   "execution_count": 6,
   "id": "6edf4466",
   "metadata": {},
   "outputs": [
    {
     "data": {
      "text/html": [
       "<div>\n",
       "<style scoped>\n",
       "    .dataframe tbody tr th:only-of-type {\n",
       "        vertical-align: middle;\n",
       "    }\n",
       "\n",
       "    .dataframe tbody tr th {\n",
       "        vertical-align: top;\n",
       "    }\n",
       "\n",
       "    .dataframe thead th {\n",
       "        text-align: right;\n",
       "    }\n",
       "</style>\n",
       "<table border=\"1\" class=\"dataframe\">\n",
       "  <thead>\n",
       "    <tr style=\"text-align: right;\">\n",
       "      <th></th>\n",
       "      <th>label</th>\n",
       "      <th>count</th>\n",
       "    </tr>\n",
       "  </thead>\n",
       "  <tbody>\n",
       "    <tr>\n",
       "      <th>0</th>\n",
       "      <td>damaged_infrastructure</td>\n",
       "      <td>686</td>\n",
       "    </tr>\n",
       "    <tr>\n",
       "      <th>1</th>\n",
       "      <td>damaged_infrastructure&amp;anchor</td>\n",
       "      <td>176</td>\n",
       "    </tr>\n",
       "    <tr>\n",
       "      <th>2</th>\n",
       "      <td>military</td>\n",
       "      <td>978</td>\n",
       "    </tr>\n",
       "    <tr>\n",
       "      <th>3</th>\n",
       "      <td>military&amp;anchor</td>\n",
       "      <td>320</td>\n",
       "    </tr>\n",
       "    <tr>\n",
       "      <th>4</th>\n",
       "      <td>not_war</td>\n",
       "      <td>8179</td>\n",
       "    </tr>\n",
       "  </tbody>\n",
       "</table>\n",
       "</div>"
      ],
      "text/plain": [
       "                           label  count\n",
       "0         damaged_infrastructure    686\n",
       "1  damaged_infrastructure&anchor    176\n",
       "2                       military    978\n",
       "3                military&anchor    320\n",
       "4                        not_war   8179"
      ]
     },
     "execution_count": 6,
     "metadata": {},
     "output_type": "execute_result"
    }
   ],
   "source": [
    "grouped_counts = df.groupby('choice_no_lc').size()\n",
    "\n",
    "# Convert to DataFrame\n",
    "df_grouped_counts = pd.DataFrame({'label': grouped_counts.index, 'count': grouped_counts.values})\n",
    "df_grouped_counts"
   ]
  },
  {
   "cell_type": "code",
   "execution_count": 7,
   "id": "0eebd5eb",
   "metadata": {},
   "outputs": [
    {
     "data": {
      "text/html": [
       "<div>\n",
       "<style scoped>\n",
       "    .dataframe tbody tr th:only-of-type {\n",
       "        vertical-align: middle;\n",
       "    }\n",
       "\n",
       "    .dataframe tbody tr th {\n",
       "        vertical-align: top;\n",
       "    }\n",
       "\n",
       "    .dataframe thead th {\n",
       "        text-align: right;\n",
       "    }\n",
       "</style>\n",
       "<table border=\"1\" class=\"dataframe\">\n",
       "  <thead>\n",
       "    <tr style=\"text-align: right;\">\n",
       "      <th></th>\n",
       "      <th>label</th>\n",
       "      <th>count</th>\n",
       "    </tr>\n",
       "  </thead>\n",
       "  <tbody>\n",
       "    <tr>\n",
       "      <th>0</th>\n",
       "      <td>Damaged Infrastructure</td>\n",
       "      <td>862</td>\n",
       "    </tr>\n",
       "    <tr>\n",
       "      <th>1</th>\n",
       "      <td>Military</td>\n",
       "      <td>1298</td>\n",
       "    </tr>\n",
       "    <tr>\n",
       "      <th>2</th>\n",
       "      <td>Not War</td>\n",
       "      <td>8179</td>\n",
       "    </tr>\n",
       "  </tbody>\n",
       "</table>\n",
       "</div>"
      ],
      "text/plain": [
       "                    label  count\n",
       "0  Damaged Infrastructure    862\n",
       "1                Military   1298\n",
       "2                 Not War   8179"
      ]
     },
     "execution_count": 7,
     "metadata": {},
     "output_type": "execute_result"
    }
   ],
   "source": [
    "# Replace labels as requested\n",
    "df_grouped_counts['label'] = df_grouped_counts['label'].replace({'damaged_infrastructure&anchor': 'Damaged Infrastructure'})\n",
    "df_grouped_counts['label'] = df_grouped_counts['label'].replace({'damaged_infrastructure': 'Damaged Infrastructure'})\n",
    "\n",
    "df_grouped_counts['label'] = df_grouped_counts['label'].replace({'military': 'Military'})\n",
    "df_grouped_counts['label'] = df_grouped_counts['label'].replace({'military&anchor': 'Military'})\n",
    "df_grouped_counts['label'] = df_grouped_counts['label'].replace({'not_war': 'Not War'})\n",
    "\n",
    "# Group by the updated labels\n",
    "grouped_counts = df_grouped_counts.groupby('label')['count'].sum().reset_index()\n",
    "\n",
    "# Display the grouped DataFrame\n",
    "grouped_counts"
   ]
  },
  {
   "cell_type": "code",
   "execution_count": 8,
   "id": "1f4f4d5e",
   "metadata": {},
   "outputs": [
    {
     "data": {
      "image/png": "[encoded data removed]",
      "text/plain": [
       "<Figure size 640x400 with 1 Axes>"
      ]
     },
     "metadata": {},
     "output_type": "display_data"
    }
   ],
   "source": [
    "# Sort the DataFrame by count in descending order\n",
    "grouped_counts_sorted = grouped_counts.sort_values(by='count', ascending=False)\n",
    "\n",
    "# Set the style\n",
    "plt.style.use('seaborn-v0_8-paper')\n",
    "\n",
    "# Set the size of the chart\n",
    "plt.figure(figsize=(6.4, 4))\n",
    "\n",
    "# Get the default color cycle from the current style\n",
    "default_colors = plt.rcParams['axes.prop_cycle'].by_key()['color']\n",
    "\n",
    "# Define colors for bars based on the label\n",
    "colors = [default_colors[0] if label == 'Not War' else default_colors[1] for label in grouped_counts_sorted['label']]\n",
    "\n",
    "# Plot the bar chart with custom colors\n",
    "bars = plt.bar(grouped_counts_sorted['label'], grouped_counts_sorted['count'], color=colors)\n",
    "\n",
    "# Add title to the chart\n",
    "# plt.title('Label Count')\n",
    "\n",
    "# Add x-axis and y-axis titles\n",
    "plt.xlabel('Class')\n",
    "plt.ylabel('Count')\n",
    "\n",
    "\n",
    "# Add numbers on top of bars\n",
    "for bar in bars:\n",
    "    yval = bar.get_height()\n",
    "    plt.text(bar.get_x() + bar.get_width()/2, yval + 0.5, int(yval), ha='center', va='bottom', fontsize=8)\n",
    "    \n",
    "    \n",
    "# Create custom legend handles\n",
    "not_war_patch = mpatches.Patch(color=default_colors[0], label='Not War')\n",
    "war_patch = mpatches.Patch(color=default_colors[1], label='War')\n",
    "\n",
    "# Add legend to the plot\n",
    "plt.legend(handles=[not_war_patch, war_patch])\n",
    "    \n",
    "plt.savefig(\n",
    "    'report_charts/LabelsDistribution.pdf',\n",
    "    bbox_inches='tight',\n",
    ")\n",
    "\n",
    "# Show the plot\n",
    "plt.show()\n"
   ]
  },
  {
   "cell_type": "code",
   "execution_count": 10,
   "id": "66100144",
   "metadata": {},
   "outputs": [
    {
     "data": {
      "image/png": "[encoded data removed]",
      "text/plain": [
       "<Figure size 640x400 with 1 Axes>"
      ]
     },
     "metadata": {},
     "output_type": "display_data"
    }
   ],
   "source": [
    "grouped_counts_label = df.groupby('label_no_lc').size()\n",
    "\n",
    "# Sort the counts in descending order\n",
    "grouped_counts_label_sorted = grouped_counts_label.sort_values(ascending=False)\n",
    "\n",
    "# Set the size of the chart\n",
    "plt.figure(figsize=(6.4, 4))\n",
    "\n",
    "# Plotting the bar chart\n",
    "ax = grouped_counts_label_sorted.plot(kind='bar')\n",
    "plt.title('Label Count')\n",
    "plt.xlabel('Class')\n",
    "plt.ylabel('Count')\n",
    "\n",
    "plt.show()"
   ]
  },
  {
   "cell_type": "markdown",
   "id": "82a29276",
   "metadata": {},
   "source": [
    "## Train/Val/Test split and save as csv"
   ]
  },
  {
   "cell_type": "code",
   "execution_count": 10,
   "id": "7455117f",
   "metadata": {},
   "outputs": [],
   "source": [
    "# Define proportions for train, validation, and test sets\n",
    "train_size = 0.7\n",
    "val_size = 0.15\n",
    "test_size = 0.15\n",
    "\n",
    "# Calculate size of dfs based on proportions\n",
    "num_total = len(df)\n",
    "num_train = int(train_size * num_total)\n",
    "num_val = int(val_size * num_total)\n",
    "num_test = num_total - num_train - num_val\n",
    "\n",
    "# Randomly shuffle the DataFrame rows\n",
    "df_shuffled = df.sample(frac=1)  # Shuffling for randomness\n",
    "\n",
    "# Split the shuffled DataFrame into train, validation, and test DataFrames\n",
    "df_train = df_shuffled.iloc[:num_train]\n",
    "df_val = df_shuffled.iloc[num_train:num_train + num_val]\n",
    "df_test = df_shuffled.iloc[num_train + num_val:]\n",
    "\n",
    "# Reset indicies\n",
    "df_train = df_train.reset_index(drop=True)\n",
    "df_val = df_val.reset_index(drop=True)\n",
    "df_test = df_test.reset_index(drop=True)\n",
    "\n",
    "# Save dataframes\n",
    "df_train.to_csv('data/train_labels.csv', index=False)\n",
    "df_val.to_csv('data/val_labels.csv', index=False)\n",
    "df_test.to_csv('data/test_labels.csv', index=False)"
   ]
  },
  {
   "cell_type": "code",
   "execution_count": null,
   "id": "34bbb9f9",
   "metadata": {},
   "outputs": [],
   "source": []
  }
 ],
 "metadata": {
  "kernelspec": {
   "display_name": "Python 3 (ipykernel)",
   "language": "python",
   "name": "python3"
  },
  "language_info": {
   "codemirror_mode": {
    "name": "ipython",
    "version": 3
   },
   "file_extension": ".py",
   "mimetype": "text/x-python",
   "name": "python",
   "nbconvert_exporter": "python",
   "pygments_lexer": "ipython3",
   "version": "3.11.8"
  }
 },
 "nbformat": 4,
 "nbformat_minor": 5
}
