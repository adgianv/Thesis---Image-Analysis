{
 "cells": [
  {
   "cell_type": "markdown",
   "id": "77128019",
   "metadata": {},
   "source": [
    "## Import Libraries"
   ]
  },
  {
   "cell_type": "code",
   "execution_count": 1,
   "id": "7f5762cb",
   "metadata": {},
   "outputs": [],
   "source": [
    "import pandas as pd\n",
    "import numpy as np\n",
    "import matplotlib.pyplot as plt"
   ]
  },
  {
   "cell_type": "markdown",
   "id": "1a4f3667",
   "metadata": {},
   "source": [
    "## Low Confidence Test"
   ]
  },
  {
   "cell_type": "code",
   "execution_count": 2,
   "id": "6a3dfe9b",
   "metadata": {},
   "outputs": [],
   "source": [
    "yuzkiv = pd.read_csv('human_performance_data/yuzkiv_test_low_confidence.csv')\n",
    "gatland = pd.read_csv('human_performance_data/gatland_test_low_confidence.csv')\n",
    "digianvito = pd.read_csv('human_performance_data/digianvito_test_low_confidence.csv')"
   ]
  },
  {
   "cell_type": "code",
   "execution_count": 3,
   "id": "b69230c2",
   "metadata": {},
   "outputs": [],
   "source": [
    "yuzkiv['image'] = yuzkiv['image'].str.extract(r'(frame.*)')\n",
    "gatland['image'] = gatland['image'].str.extract(r'(frame.*)')\n",
    "digianvito['image'] = digianvito['image'].str.extract(r'(frame.*)')"
   ]
  },
  {
   "cell_type": "code",
   "execution_count": 4,
   "id": "aee5add4",
   "metadata": {},
   "outputs": [],
   "source": [
    "def add_war_label(data):\n",
    "    # Define conditions and corresponding values\n",
    "    conditions = [\n",
    "        data['choice'].isin(['military', 'damaged_infrastructure', 'military&anchor',\n",
    "                                    'damaged_infrastructure&anchor']),\n",
    "        data['choice'].isin(['not_war']),\n",
    "        data['choice'].isin(['low_confidence_war'])\n",
    "    ]\n",
    "    values = ['war', 'not_war', 'low_confidence_war']\n",
    "\n",
    "    # Apply conditions and assign values to 'info' column\n",
    "    data['label'] = np.select(conditions, values, default='')\n",
    "    return data\n",
    "\n",
    "yuzkiv = add_war_label(yuzkiv)\n",
    "gatland = add_war_label(gatland)\n",
    "digianvito = add_war_label(digianvito)"
   ]
  },
  {
   "cell_type": "code",
   "execution_count": 5,
   "id": "ff091cc5",
   "metadata": {},
   "outputs": [],
   "source": [
    "yuzkiv = yuzkiv[['image', 'label', 'choice']]\n",
    "gatland = gatland[['image', 'label', 'choice']]\n",
    "digianvito = digianvito[['image', 'label', 'choice']]"
   ]
  },
  {
   "cell_type": "code",
   "execution_count": 6,
   "id": "4128ef05",
   "metadata": {},
   "outputs": [],
   "source": [
    "yuzkiv['image'] = yuzkiv['image'].str.extract(r'(frame.*)')\n",
    "gatland['image'] = gatland['image'].str.extract(r'(frame.*)')\n",
    "digianvito['image'] = digianvito['image'].str.extract(r'(frame.*)')"
   ]
  },
  {
   "cell_type": "code",
   "execution_count": 7,
   "id": "5224ddf8",
   "metadata": {},
   "outputs": [
    {
     "data": {
      "text/plain": [
       "((200, 3), (200, 3), (200, 3))"
      ]
     },
     "execution_count": 7,
     "metadata": {},
     "output_type": "execute_result"
    }
   ],
   "source": [
    "yuzkiv.shape, gatland.shape, digianvito.shape"
   ]
  },
  {
   "cell_type": "code",
   "execution_count": 8,
   "id": "eb60ca0f",
   "metadata": {},
   "outputs": [
    {
     "data": {
      "text/html": [
       "<div>\n",
       "<style scoped>\n",
       "    .dataframe tbody tr th:only-of-type {\n",
       "        vertical-align: middle;\n",
       "    }\n",
       "\n",
       "    .dataframe tbody tr th {\n",
       "        vertical-align: top;\n",
       "    }\n",
       "\n",
       "    .dataframe thead th {\n",
       "        text-align: right;\n",
       "    }\n",
       "</style>\n",
       "<table border=\"1\" class=\"dataframe\">\n",
       "  <thead>\n",
       "    <tr style=\"text-align: right;\">\n",
       "      <th></th>\n",
       "      <th>image</th>\n",
       "      <th>label_yuzkiv</th>\n",
       "      <th>choice_yuzkiv</th>\n",
       "      <th>label_gatland</th>\n",
       "      <th>choice_gatland</th>\n",
       "      <th>label</th>\n",
       "      <th>choice</th>\n",
       "    </tr>\n",
       "  </thead>\n",
       "  <tbody>\n",
       "    <tr>\n",
       "      <th>0</th>\n",
       "      <td>frame_telecinco_noche_2023-08-20_sec_804.jpg</td>\n",
       "      <td>war</td>\n",
       "      <td>damaged_infrastructure</td>\n",
       "      <td>war</td>\n",
       "      <td>damaged_infrastructure</td>\n",
       "      <td>war</td>\n",
       "      <td>damaged_infrastructure</td>\n",
       "    </tr>\n",
       "    <tr>\n",
       "      <th>1</th>\n",
       "      <td>frame_telecinco_noche_2023-08-16_sec_937.jpg</td>\n",
       "      <td>war</td>\n",
       "      <td>military&amp;anchor</td>\n",
       "      <td>war</td>\n",
       "      <td>military&amp;anchor</td>\n",
       "      <td>war</td>\n",
       "      <td>military&amp;anchor</td>\n",
       "    </tr>\n",
       "    <tr>\n",
       "      <th>2</th>\n",
       "      <td>frame_telecinco_noche_2023-08-16_sec_897.jpg</td>\n",
       "      <td>war</td>\n",
       "      <td>military</td>\n",
       "      <td>war</td>\n",
       "      <td>military</td>\n",
       "      <td>war</td>\n",
       "      <td>military</td>\n",
       "    </tr>\n",
       "    <tr>\n",
       "      <th>3</th>\n",
       "      <td>frame_telecinco_noche_2023-08-16_sec_877.jpg</td>\n",
       "      <td>war</td>\n",
       "      <td>military</td>\n",
       "      <td>war</td>\n",
       "      <td>military</td>\n",
       "      <td>war</td>\n",
       "      <td>military</td>\n",
       "    </tr>\n",
       "    <tr>\n",
       "      <th>4</th>\n",
       "      <td>frame_telecinco_noche_2023-08-16_sec_857.jpg</td>\n",
       "      <td>not_war</td>\n",
       "      <td>not_war</td>\n",
       "      <td>not_war</td>\n",
       "      <td>not_war</td>\n",
       "      <td>not_war</td>\n",
       "      <td>not_war</td>\n",
       "    </tr>\n",
       "  </tbody>\n",
       "</table>\n",
       "</div>"
      ],
      "text/plain": [
       "                                          image label_yuzkiv  \\\n",
       "0  frame_telecinco_noche_2023-08-20_sec_804.jpg          war   \n",
       "1  frame_telecinco_noche_2023-08-16_sec_937.jpg          war   \n",
       "2  frame_telecinco_noche_2023-08-16_sec_897.jpg          war   \n",
       "3  frame_telecinco_noche_2023-08-16_sec_877.jpg          war   \n",
       "4  frame_telecinco_noche_2023-08-16_sec_857.jpg      not_war   \n",
       "\n",
       "            choice_yuzkiv label_gatland          choice_gatland    label  \\\n",
       "0  damaged_infrastructure           war  damaged_infrastructure      war   \n",
       "1         military&anchor           war         military&anchor      war   \n",
       "2                military           war                military      war   \n",
       "3                military           war                military      war   \n",
       "4                 not_war       not_war                 not_war  not_war   \n",
       "\n",
       "                   choice  \n",
       "0  damaged_infrastructure  \n",
       "1         military&anchor  \n",
       "2                military  \n",
       "3                military  \n",
       "4                 not_war  "
      ]
     },
     "execution_count": 8,
     "metadata": {},
     "output_type": "execute_result"
    }
   ],
   "source": [
    "# First merge yuzkiv and gatland on 'image'\n",
    "merged_df = pd.merge(yuzkiv, gatland, on='image', suffixes=('_yuzkiv', '_gatland'))\n",
    "\n",
    "# Then merge the result with digianvito on 'image'\n",
    "final_df = pd.merge(merged_df, digianvito, on='image', suffixes=('', '_digianvito'))\n",
    "\n",
    "final_df.head()"
   ]
  },
  {
   "cell_type": "code",
   "execution_count": 9,
   "id": "89162f1f",
   "metadata": {},
   "outputs": [],
   "source": [
    "final_df['labels_match'] = np.where(\n",
    "    (final_df['label_yuzkiv'] == final_df['label_gatland']) & \n",
    "    (final_df['label_yuzkiv'] == final_df['label']),\n",
    "    True, \n",
    "    False\n",
    ")"
   ]
  },
  {
   "cell_type": "code",
   "execution_count": 10,
   "id": "03a5c91f",
   "metadata": {},
   "outputs": [
    {
     "name": "stdout",
     "output_type": "stream",
     "text": [
      "Number of matching labels for 3 people: 184\n",
      "Share of matching labels for 3 people: 0.92\n"
     ]
    }
   ],
   "source": [
    "three_matched = final_df[final_df.labels_match == True].shape[0]\n",
    "print(f'Number of matching labels for 3 people: {three_matched}')\n",
    "print(f'Share of matching labels for 3 people: {three_matched/200}')"
   ]
  },
  {
   "cell_type": "code",
   "execution_count": 11,
   "id": "7750679e",
   "metadata": {},
   "outputs": [
    {
     "name": "stdout",
     "output_type": "stream",
     "text": [
      "Number of matching labels for Vika and Ollie: 190\n",
      "Share of matching labels for Vika and Angelo: 0.95\n"
     ]
    }
   ],
   "source": [
    "final_df['vika_and_ollie'] = np.where((final_df['label_yuzkiv'] == final_df['label_gatland']),\n",
    "    True, \n",
    "    False\n",
    ")\n",
    "\n",
    "vika_ollie = final_df[final_df['vika_and_ollie'] == True].shape[0]\n",
    "\n",
    "print(f'Number of matching labels for Vika and Ollie: {vika_ollie}')\n",
    "print(f'Share of matching labels for Vika and Angelo: {vika_ollie/200}')"
   ]
  },
  {
   "cell_type": "code",
   "execution_count": 12,
   "id": "c35c7008",
   "metadata": {},
   "outputs": [
    {
     "name": "stdout",
     "output_type": "stream",
     "text": [
      "Number of matching labels for Vika and Angelo: 188\n",
      "Share of matching labels for Vika and Angelo: 0.94\n"
     ]
    }
   ],
   "source": [
    "final_df['vika_and_angelo'] = np.where((final_df['label_yuzkiv'] == final_df['label']),\n",
    "    True, \n",
    "    False\n",
    ")\n",
    "\n",
    "vika_angelo = final_df[final_df['vika_and_angelo'] == True].shape[0]\n",
    "\n",
    "print(f'Number of matching labels for Vika and Angelo: {vika_angelo}')\n",
    "print(f'Share of matching labels for Vika and Angelo: {vika_angelo/200}')"
   ]
  },
  {
   "cell_type": "code",
   "execution_count": 13,
   "id": "342b3c6f",
   "metadata": {},
   "outputs": [
    {
     "name": "stdout",
     "output_type": "stream",
     "text": [
      "Number of matching labels for Ollie and Angelo: 190\n",
      "Share of matching labels for Ollie and Angelo: 0.95\n"
     ]
    }
   ],
   "source": [
    "final_df['ollie_and_angelo'] = np.where((final_df['label_gatland'] == final_df['label']),\n",
    "    True, \n",
    "    False\n",
    ")\n",
    "\n",
    "ollie_angelo = final_df[final_df['ollie_and_angelo'] == True].shape[0]\n",
    "\n",
    "print(f'Number of matching labels for Ollie and Angelo: {ollie_angelo}')\n",
    "print(f'Share of matching labels for Ollie and Angelo: {ollie_angelo/200}')"
   ]
  },
  {
   "cell_type": "code",
   "execution_count": 14,
   "id": "1d699792",
   "metadata": {},
   "outputs": [
    {
     "data": {
      "image/png": "[encoded data removed]",
      "text/plain": [
       "<Figure size 800x600 with 1 Axes>"
      ]
     },
     "metadata": {},
     "output_type": "display_data"
    }
   ],
   "source": [
    "variables = ['Ollie and Angelo', 'Vika and Angelo', 'Vika and Ollie', 'Three matched']\n",
    "values = [ollie_angelo/200, vika_angelo/200, vika_ollie/200, three_matched/200]\n",
    "\n",
    "# Assign colors\n",
    "colors = ['skyblue', 'skyblue', 'skyblue', 'orange']\n",
    "# Plotting\n",
    "plt.figure(figsize=(8, 6))\n",
    "bars = plt.bar(variables, values, color=colors)\n",
    "\n",
    "# Add labels and title\n",
    "plt.xlabel('Variables')\n",
    "plt.ylabel('Share of Matching Values')\n",
    "plt.title('Human Performance Test (Low Confidence)')\n",
    "\n",
    "# Add value labels on top of the bars\n",
    "for bar in bars:\n",
    "    yval = bar.get_height()\n",
    "    plt.text(bar.get_x() + bar.get_width()/2, yval, round(yval, 2), ha='center', va='bottom')\n",
    "\n",
    "# Hide axes titles (both x-axis and y-axis titles)\n",
    "plt.xlabel('')\n",
    "plt.ylabel('Share of Matching Values')    \n",
    "    \n",
    "plt.tight_layout()\n",
    "plt.show()"
   ]
  },
  {
   "cell_type": "markdown",
   "id": "a6431ced",
   "metadata": {},
   "source": [
    "### Get final labels for the dataset"
   ]
  },
  {
   "cell_type": "code",
   "execution_count": 15,
   "id": "0b2151c9",
   "metadata": {},
   "outputs": [],
   "source": [
    "# def most_common_or_null(row):\n",
    "#     # Get the choices as a list\n",
    "#     choices = [row['choice_yuzkiv'], row['choice_gatland'], row['choice']]\n",
    "#     # Count the occurrences of each choice\n",
    "#     counts = pd.Series(choices).value_counts()\n",
    "#     # Check the most common value\n",
    "#     if counts.iloc[0] >= 2:\n",
    "#         # If the most common value appears at least twice, return it\n",
    "#         return counts.index[0]\n",
    "#     else:\n",
    "#         # Otherwise, return None\n",
    "#         return None\n",
    "\n",
    "# # Apply the function to each row to create the choice_final column\n",
    "# final_df['choice_final'] = final_df.apply(most_common_or_null, axis=1)\n",
    "# final_df.head()"
   ]
  },
  {
   "cell_type": "code",
   "execution_count": 64,
   "id": "e73b5175",
   "metadata": {},
   "outputs": [],
   "source": [
    "# final_df = final_df[~final_df.choice_final.isnull()]"
   ]
  },
  {
   "cell_type": "code",
   "execution_count": 65,
   "id": "50546326",
   "metadata": {},
   "outputs": [
    {
     "data": {
      "text/html": [
       "<div>\n",
       "<style scoped>\n",
       "    .dataframe tbody tr th:only-of-type {\n",
       "        vertical-align: middle;\n",
       "    }\n",
       "\n",
       "    .dataframe tbody tr th {\n",
       "        vertical-align: top;\n",
       "    }\n",
       "\n",
       "    .dataframe thead th {\n",
       "        text-align: right;\n",
       "    }\n",
       "</style>\n",
       "<table border=\"1\" class=\"dataframe\">\n",
       "  <thead>\n",
       "    <tr style=\"text-align: right;\">\n",
       "      <th></th>\n",
       "      <th>image</th>\n",
       "      <th>choice_final</th>\n",
       "    </tr>\n",
       "  </thead>\n",
       "  <tbody>\n",
       "    <tr>\n",
       "      <th>0</th>\n",
       "      <td>frame_telecinco_noche_2023-08-20_sec_804.jpg</td>\n",
       "      <td>damaged_infrastructure</td>\n",
       "    </tr>\n",
       "    <tr>\n",
       "      <th>1</th>\n",
       "      <td>frame_telecinco_noche_2023-08-16_sec_937.jpg</td>\n",
       "      <td>military&amp;anchor</td>\n",
       "    </tr>\n",
       "    <tr>\n",
       "      <th>2</th>\n",
       "      <td>frame_telecinco_noche_2023-08-16_sec_897.jpg</td>\n",
       "      <td>military</td>\n",
       "    </tr>\n",
       "    <tr>\n",
       "      <th>3</th>\n",
       "      <td>frame_telecinco_noche_2023-08-16_sec_877.jpg</td>\n",
       "      <td>military</td>\n",
       "    </tr>\n",
       "    <tr>\n",
       "      <th>4</th>\n",
       "      <td>frame_telecinco_noche_2023-08-16_sec_857.jpg</td>\n",
       "      <td>not_war</td>\n",
       "    </tr>\n",
       "  </tbody>\n",
       "</table>\n",
       "</div>"
      ],
      "text/plain": [
       "                                          image            choice_final\n",
       "0  frame_telecinco_noche_2023-08-20_sec_804.jpg  damaged_infrastructure\n",
       "1  frame_telecinco_noche_2023-08-16_sec_937.jpg         military&anchor\n",
       "2  frame_telecinco_noche_2023-08-16_sec_897.jpg                military\n",
       "3  frame_telecinco_noche_2023-08-16_sec_877.jpg                military\n",
       "4  frame_telecinco_noche_2023-08-16_sec_857.jpg                 not_war"
      ]
     },
     "execution_count": 65,
     "metadata": {},
     "output_type": "execute_result"
    }
   ],
   "source": [
    "# final_df = final_df[['image', 'choice_final']]\n",
    "# final_df.head()"
   ]
  },
  {
   "cell_type": "code",
   "execution_count": 66,
   "id": "5b566c7f",
   "metadata": {},
   "outputs": [],
   "source": [
    "# final_df.to_csv('/Users/viktoriia/Desktop/new_labels/low_confidence_res/lc_human_performance_labels.csv',index=False)"
   ]
  },
  {
   "cell_type": "markdown",
   "id": "49726be6",
   "metadata": {},
   "source": [
    "## Human Level Performance on a Subset of Data"
   ]
  },
  {
   "cell_type": "code",
   "execution_count": 20,
   "id": "70a39e0d",
   "metadata": {},
   "outputs": [],
   "source": [
    "yuzkiv_test2 = pd.read_csv('human_performance_data/yuzkiv_test2.csv')\n",
    "gatland_test2 = pd.read_csv('human_performance_data/gatland_test2.csv')\n",
    "digianvito_test2 = pd.read_csv('human_performance_data/digianvito_test2.csv')"
   ]
  },
  {
   "cell_type": "code",
   "execution_count": 21,
   "id": "e4771d4f",
   "metadata": {},
   "outputs": [],
   "source": [
    "yuzkiv_test2 = add_war_label(yuzkiv_test2)\n",
    "gatland_test2 = add_war_label(gatland_test2)\n",
    "digianvito_test2 = add_war_label(digianvito_test2)"
   ]
  },
  {
   "cell_type": "code",
   "execution_count": 22,
   "id": "563baf84",
   "metadata": {},
   "outputs": [],
   "source": [
    "yuzkiv_test2 = yuzkiv_test2[['image', 'label', 'choice']]\n",
    "gatland_test2 = gatland_test2[['image', 'label', 'choice']]\n",
    "digianvito_test2 = digianvito_test2[['image', 'label', 'choice']]"
   ]
  },
  {
   "cell_type": "code",
   "execution_count": 23,
   "id": "240a5260",
   "metadata": {},
   "outputs": [],
   "source": [
    "yuzkiv_test2['image'] = yuzkiv_test2['image'].str.extract(r'(frame.*)')\n",
    "gatland_test2['image'] = gatland_test2['image'].str.extract(r'(frame.*)')\n",
    "digianvito_test2['image'] = digianvito_test2['image'].str.extract(r'(frame.*)')"
   ]
  },
  {
   "cell_type": "code",
   "execution_count": 24,
   "id": "3383a234",
   "metadata": {},
   "outputs": [
    {
     "data": {
      "text/plain": [
       "((208, 3), (208, 3), (200, 3))"
      ]
     },
     "execution_count": 24,
     "metadata": {},
     "output_type": "execute_result"
    }
   ],
   "source": [
    "yuzkiv_test2.shape, gatland_test2.shape, digianvito_test2.shape"
   ]
  },
  {
   "cell_type": "code",
   "execution_count": 25,
   "id": "8a2cf073",
   "metadata": {},
   "outputs": [
    {
     "data": {
      "text/html": [
       "<div>\n",
       "<style scoped>\n",
       "    .dataframe tbody tr th:only-of-type {\n",
       "        vertical-align: middle;\n",
       "    }\n",
       "\n",
       "    .dataframe tbody tr th {\n",
       "        vertical-align: top;\n",
       "    }\n",
       "\n",
       "    .dataframe thead th {\n",
       "        text-align: right;\n",
       "    }\n",
       "</style>\n",
       "<table border=\"1\" class=\"dataframe\">\n",
       "  <thead>\n",
       "    <tr style=\"text-align: right;\">\n",
       "      <th></th>\n",
       "      <th>image</th>\n",
       "      <th>label_yuzkiv</th>\n",
       "      <th>choice_yuzkiv</th>\n",
       "      <th>label_gatland</th>\n",
       "      <th>choice_gatland</th>\n",
       "      <th>label</th>\n",
       "      <th>choice</th>\n",
       "    </tr>\n",
       "  </thead>\n",
       "  <tbody>\n",
       "    <tr>\n",
       "      <th>0</th>\n",
       "      <td>frame_la6_noche_2024-04-23_sec_1734.jpg</td>\n",
       "      <td>not_war</td>\n",
       "      <td>not_war</td>\n",
       "      <td>not_war</td>\n",
       "      <td>not_war</td>\n",
       "      <td>not_war</td>\n",
       "      <td>not_war</td>\n",
       "    </tr>\n",
       "    <tr>\n",
       "      <th>1</th>\n",
       "      <td>frame_la6_noche_2024-04-23_sec_1714.jpg</td>\n",
       "      <td>not_war</td>\n",
       "      <td>not_war</td>\n",
       "      <td>not_war</td>\n",
       "      <td>not_war</td>\n",
       "      <td>not_war</td>\n",
       "      <td>not_war</td>\n",
       "    </tr>\n",
       "    <tr>\n",
       "      <th>2</th>\n",
       "      <td>frame_la6_noche_2024-04-23_sec_1694.jpg</td>\n",
       "      <td>not_war</td>\n",
       "      <td>not_war</td>\n",
       "      <td>not_war</td>\n",
       "      <td>not_war</td>\n",
       "      <td>not_war</td>\n",
       "      <td>not_war</td>\n",
       "    </tr>\n",
       "    <tr>\n",
       "      <th>3</th>\n",
       "      <td>frame_la6_noche_2024-04-23_sec_1674.jpg</td>\n",
       "      <td>not_war</td>\n",
       "      <td>not_war</td>\n",
       "      <td>not_war</td>\n",
       "      <td>not_war</td>\n",
       "      <td>not_war</td>\n",
       "      <td>not_war</td>\n",
       "    </tr>\n",
       "    <tr>\n",
       "      <th>4</th>\n",
       "      <td>frame_la6_noche_2024-04-23_sec_1654.jpg</td>\n",
       "      <td>not_war</td>\n",
       "      <td>not_war</td>\n",
       "      <td>not_war</td>\n",
       "      <td>not_war</td>\n",
       "      <td>not_war</td>\n",
       "      <td>not_war</td>\n",
       "    </tr>\n",
       "  </tbody>\n",
       "</table>\n",
       "</div>"
      ],
      "text/plain": [
       "                                     image label_yuzkiv choice_yuzkiv  \\\n",
       "0  frame_la6_noche_2024-04-23_sec_1734.jpg      not_war       not_war   \n",
       "1  frame_la6_noche_2024-04-23_sec_1714.jpg      not_war       not_war   \n",
       "2  frame_la6_noche_2024-04-23_sec_1694.jpg      not_war       not_war   \n",
       "3  frame_la6_noche_2024-04-23_sec_1674.jpg      not_war       not_war   \n",
       "4  frame_la6_noche_2024-04-23_sec_1654.jpg      not_war       not_war   \n",
       "\n",
       "  label_gatland choice_gatland    label   choice  \n",
       "0       not_war        not_war  not_war  not_war  \n",
       "1       not_war        not_war  not_war  not_war  \n",
       "2       not_war        not_war  not_war  not_war  \n",
       "3       not_war        not_war  not_war  not_war  \n",
       "4       not_war        not_war  not_war  not_war  "
      ]
     },
     "execution_count": 25,
     "metadata": {},
     "output_type": "execute_result"
    }
   ],
   "source": [
    "# First merge yuzkiv and gatland on 'image'\n",
    "merged_df_test2 = pd.merge(yuzkiv_test2, gatland_test2, on='image', suffixes=('_yuzkiv', '_gatland'))\n",
    "\n",
    "# Then merge the result with digianvito on 'image'\n",
    "final_df_test2 = pd.merge(merged_df_test2, digianvito_test2, on='image', suffixes=('', '_digianvito'))\n",
    "\n",
    "final_df_test2.head()"
   ]
  },
  {
   "cell_type": "code",
   "execution_count": 26,
   "id": "db9a0715",
   "metadata": {},
   "outputs": [
    {
     "data": {
      "text/plain": [
       "(200, 7)"
      ]
     },
     "execution_count": 26,
     "metadata": {},
     "output_type": "execute_result"
    }
   ],
   "source": [
    "final_df_test2.shape"
   ]
  },
  {
   "cell_type": "code",
   "execution_count": 27,
   "id": "52d296c6",
   "metadata": {},
   "outputs": [],
   "source": [
    "final_df_test2['labels_match'] = np.where(\n",
    "    (final_df_test2['label_yuzkiv'] == final_df_test2['label_gatland']) & \n",
    "    (final_df_test2['label_yuzkiv'] == final_df_test2['label']),\n",
    "    True, \n",
    "    False\n",
    ")"
   ]
  },
  {
   "cell_type": "code",
   "execution_count": 28,
   "id": "69969149",
   "metadata": {},
   "outputs": [
    {
     "name": "stdout",
     "output_type": "stream",
     "text": [
      "Number of matching labels for 3 people: 188\n",
      "Share of matching labels for 3 people: 0.94\n"
     ]
    }
   ],
   "source": [
    "three_matched_test2 = final_df_test2[final_df_test2.labels_match == True].shape[0]\n",
    "print(f'Number of matching labels for 3 people: {three_matched_test2}')\n",
    "print(f'Share of matching labels for 3 people: {three_matched_test2/200}')"
   ]
  },
  {
   "cell_type": "code",
   "execution_count": 29,
   "id": "d1eea835",
   "metadata": {},
   "outputs": [
    {
     "name": "stdout",
     "output_type": "stream",
     "text": [
      "Number of matching labels for Vika and Ollie: 192\n",
      "Share of matching labels for Vika and Angelo: 0.96\n"
     ]
    }
   ],
   "source": [
    "final_df_test2['vika_and_ollie'] = np.where((final_df_test2['label_yuzkiv'] == final_df_test2['label_gatland']),\n",
    "    True, \n",
    "    False\n",
    ")\n",
    "\n",
    "vika_ollie_test2 = final_df_test2[final_df_test2['vika_and_ollie'] == True].shape[0]\n",
    "\n",
    "print(f'Number of matching labels for Vika and Ollie: {vika_ollie_test2}')\n",
    "print(f'Share of matching labels for Vika and Angelo: {vika_ollie_test2/200}')"
   ]
  },
  {
   "cell_type": "code",
   "execution_count": 30,
   "id": "ac1cd6e5",
   "metadata": {},
   "outputs": [
    {
     "name": "stdout",
     "output_type": "stream",
     "text": [
      "Number of matching labels for Vika and Angelo: 193\n",
      "Share of matching labels for Vika and Angelo: 0.965\n"
     ]
    }
   ],
   "source": [
    "final_df_test2['vika_and_angelo'] = np.where((final_df_test2['label_yuzkiv'] == final_df_test2['label']),\n",
    "    True, \n",
    "    False\n",
    ")\n",
    "\n",
    "vika_angelo_test2 = final_df_test2[final_df_test2['vika_and_angelo'] == True].shape[0]\n",
    "\n",
    "print(f'Number of matching labels for Vika and Angelo: {vika_angelo_test2}')\n",
    "print(f'Share of matching labels for Vika and Angelo: {vika_angelo_test2/200}')"
   ]
  },
  {
   "cell_type": "code",
   "execution_count": 31,
   "id": "24da1d8f",
   "metadata": {},
   "outputs": [
    {
     "name": "stdout",
     "output_type": "stream",
     "text": [
      "Number of matching labels for Ollie and Angelo: 191\n",
      "Share of matching labels for Ollie and Angelo: 0.955\n"
     ]
    }
   ],
   "source": [
    "final_df_test2['ollie_and_angelo'] = np.where((final_df_test2['label_gatland'] == final_df_test2['label']),\n",
    "    True, \n",
    "    False\n",
    ")\n",
    "\n",
    "ollie_angelo_test2 = final_df_test2[final_df_test2['ollie_and_angelo'] == True].shape[0]\n",
    "\n",
    "print(f'Number of matching labels for Ollie and Angelo: {ollie_angelo_test2}')\n",
    "print(f'Share of matching labels for Ollie and Angelo: {ollie_angelo_test2/200}')"
   ]
  },
  {
   "cell_type": "code",
   "execution_count": 33,
   "id": "b5e63d16",
   "metadata": {},
   "outputs": [
    {
     "data": {
      "image/png": "[encoded data removed]",
      "text/plain": [
       "<Figure size 800x600 with 1 Axes>"
      ]
     },
     "metadata": {},
     "output_type": "display_data"
    }
   ],
   "source": [
    "# Example data (replace with your actual data)\n",
    "variables_test2 = ['Ollie and Angelo', 'Vika and Angelo', 'Vika and Ollie', 'Three matched']\n",
    "values_test2 = [ollie_angelo_test2/200, vika_angelo_test2/200, vika_ollie_test2/200, three_matched_test2/200]\n",
    "\n",
    "# Assign colors\n",
    "colors = ['skyblue', 'skyblue', 'skyblue', 'orange']  # 'three_matched' in orange, others in skyblue\n",
    "\n",
    "# Plotting\n",
    "plt.figure(figsize=(8, 6))\n",
    "bars = plt.bar(variables_test2, values_test2, color=colors)\n",
    "\n",
    "# Add labels and title\n",
    "plt.xlabel('Variables')\n",
    "plt.ylabel('Share of Matching Values')\n",
    "plt.title('Human Performance Test')\n",
    "\n",
    "# Add value labels on top of the bars\n",
    "for bar in bars:\n",
    "    yval = bar.get_height()\n",
    "    plt.text(bar.get_x() + bar.get_width()/2, yval, round(yval, 3), ha='center', va='bottom')\n",
    "\n",
    "# Hide axes titles (both x-axis and y-axis titles)\n",
    "plt.xlabel('')\n",
    "plt.ylabel('Share of Matching Values')    \n",
    "    \n",
    "plt.tight_layout()\n",
    "plt.show()"
   ]
  },
  {
   "cell_type": "markdown",
   "id": "e4b2f698",
   "metadata": {},
   "source": [
    "### Get final labels for the dataset"
   ]
  },
  {
   "cell_type": "code",
   "execution_count": null,
   "id": "53201952",
   "metadata": {},
   "outputs": [],
   "source": [
    "# final_df = final_df[['image', 'choice_yuzkiv', 'choice_gatland', 'choice']]"
   ]
  },
  {
   "cell_type": "code",
   "execution_count": null,
   "id": "19692567",
   "metadata": {},
   "outputs": [],
   "source": [
    "# Apply the function to each row to create the choice_final column\n",
    "# final_df['choice_final'] = final_df.apply(most_common_or_null, axis=1)\n",
    "# final_df.head()"
   ]
  },
  {
   "cell_type": "code",
   "execution_count": null,
   "id": "5d88c311",
   "metadata": {},
   "outputs": [],
   "source": [
    "# final_df = final_df[~final_df.choice_final.isnull()]"
   ]
  },
  {
   "cell_type": "code",
   "execution_count": null,
   "id": "4bfd0e79",
   "metadata": {},
   "outputs": [],
   "source": [
    "# final_df = final_df[['image', 'choice_final']]\n",
    "# final_df.head()"
   ]
  },
  {
   "cell_type": "code",
   "execution_count": null,
   "id": "228a46d5",
   "metadata": {},
   "outputs": [],
   "source": [
    "# final_df.to_csv('/Users/viktoriia/Desktop/new_labels/human_performance/human_performance_labels.csv',index=False)"
   ]
  }
 ],
 "metadata": {
  "kernelspec": {
   "display_name": "Python 3 (ipykernel)",
   "language": "python",
   "name": "python3"
  },
  "language_info": {
   "codemirror_mode": {
    "name": "ipython",
    "version": 3
   },
   "file_extension": ".py",
   "mimetype": "text/x-python",
   "name": "python",
   "nbconvert_exporter": "python",
   "pygments_lexer": "ipython3",
   "version": "3.11.8"
  }
 },
 "nbformat": 4,
 "nbformat_minor": 5
}
